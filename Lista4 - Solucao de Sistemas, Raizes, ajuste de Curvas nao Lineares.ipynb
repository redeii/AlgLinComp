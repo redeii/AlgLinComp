{
 "cells": [
  {
   "cell_type": "code",
   "execution_count": 1,
   "metadata": {},
   "outputs": [],
   "source": [
    "import math\n",
    "import numpy as np\n",
    "import sympy as sp\n",
    "from matplotlib import style\n",
    "style.use('seaborn')"
   ]
  },
  {
   "cell_type": "markdown",
   "metadata": {},
   "source": [
    "### 1) Prepare um programa (linguagem de sua preferência) para obter a raiz de uma equação f(x) pelo método da bisseção;"
   ]
  },
  {
   "cell_type": "markdown",
   "metadata": {},
   "source": [
    " "
   ]
  },
  {
   "cell_type": "code",
   "execution_count": 2,
   "metadata": {},
   "outputs": [],
   "source": [
    "def bissecao(formula,A,B,tol=1.0e-4):\n",
    "    '''Emprega-se o metodo da bissecao para achar uma raiz da funcao,\n",
    "    assumindo que exista uma e somente uma raiz no intervalo informado,\n",
    "    sendo esse intervalo uma parte continua da funcao.\n",
    "    \n",
    "    Inputs:\n",
    "    formula: funcao lambda. ex: lambda x: x**2+2*x+5\n",
    "    intervalo_A: float\n",
    "    intervalo_B: float\n",
    "    tol: float\n",
    "    \n",
    "    Output:\n",
    "    Raiz da equacao (float)\n",
    "    '''\n",
    "    \n",
    "    # Se o intervalo informado ja for BEM proximo da raiz \n",
    "    # tendo tol como referencia, retorna A.\n",
    "    if abs(B-A) <= tol and abs(formula(A)) < 0.0001:\n",
    "        return A\n",
    "    \n",
    "\n",
    "    # MEXENDO COM OS INTERVALOS, SE f(A) > f(B), g(x) = -y(x). \n",
    "    # Caso contrario, g(x) = y(x) . A raiz permanece a mesma uma vez que\n",
    "    #  0 = -0. Dessa forma, ha garantia que g(A) sempre sera menor que\n",
    "    # g(B), ou seja g sempre sera crescente em relacao aos 2 pontos!\n",
    "    \n",
    "    multiplicador = 1\n",
    "    if formula(A) > formula(B):\n",
    "        multiplicador = -1\n",
    "    # esse multiplicador multiplicara o valor da funcao no ponto medio por\n",
    "    # -1 caso a funcao original seja decrescente.\n",
    "    \n",
    "    \n",
    "    while abs(B-A)>tol:\n",
    "        chute = (A+B)/2.0 #Chute no ponto medio\n",
    "        f_chute = multiplicador*formula(chute) #Calculando o valor da funcao\n",
    "        #no ponto medio aplicando o multiplicador \n",
    "        if f_chute > 0:\n",
    "            B = chute\n",
    "        else:\n",
    "            A = chute\n",
    "    return chute\n",
    "        \n",
    "        \n",
    "    \n",
    "    "
   ]
  },
  {
   "cell_type": "markdown",
   "metadata": {},
   "source": [
    "### 2) Prepare um programa (linguagem de sua preferência) para obter a raiz de uma equação f(x) pelo método de Newton (original e secante)"
   ]
  },
  {
   "cell_type": "markdown",
   "metadata": {},
   "source": [
    " "
   ]
  },
  {
   "cell_type": "code",
   "execution_count": 3,
   "metadata": {},
   "outputs": [],
   "source": [
    "def newton_original(formula,derivada,chute_inicial,max_iter=100,tol=1.0e-4):\n",
    "    '''Calcula a raiz de uma equacao pelo metodo de Newton original,\n",
    "    ou seja, calcula-se a derivada analiticamente.\n",
    "    Inputs:\n",
    "    formula: funcao lambda.\n",
    "    derivada: funcao lambda.\n",
    "    ''' \n",
    "    x = chute_inicial\n",
    "    for k in range(max_iter):\n",
    "        tmp = x # Esse e o x(k-1)\n",
    "        x = tmp - formula(tmp)/derivada(tmp)\n",
    "        tolk = abs(x-tmp)\n",
    "        if tolk < tol:\n",
    "            return x\n",
    "    print('Convergencia nao foi alcancada')\n",
    "    return\n",
    "        "
   ]
  },
  {
   "cell_type": "code",
   "execution_count": 4,
   "metadata": {},
   "outputs": [],
   "source": [
    "def secante(formula,chute_inicial,max_iter=100,tol=1.0e-4):\n",
    "    '''Calcula a raiz de uma equacao pelo metodo secante,\n",
    "    derivada calculada numericamente\n",
    "    Inputs:\n",
    "    formula: funcao lambda. ex: \"lambda x : x**2 + 4*math.cos(x)\"\n",
    "    '''\n",
    "    delta_x = 0.001\n",
    "    x_anterior = chute_inicial\n",
    "    x = chute_inicial + delta_x\n",
    "    fa = formula(chute_inicial)\n",
    "    for k in range(max_iter):\n",
    "        fk = formula(x)\n",
    "        tmp = x\n",
    "        x = x - fk*(x-x_anterior)/(fk - fa) # Definindo o proximo x\n",
    "        tolk = abs(x - tmp)\n",
    "        if tolk <= tol:\n",
    "            return tmp\n",
    "        else:\n",
    "            fa = fk\n",
    "            x_anterior = tmp\n",
    "            \n",
    "    print('Convergencia nao foi alcancada')\n",
    "    return\n",
    "        "
   ]
  },
  {
   "cell_type": "markdown",
   "metadata": {},
   "source": [
    "### 3) Prepare um programa (linguagem de sua preferência) para obter a raiz de uma equação f(x) pelo método da Interpolação Inversa;\n"
   ]
  },
  {
   "cell_type": "markdown",
   "metadata": {},
   "source": [
    " "
   ]
  },
  {
   "cell_type": "code",
   "execution_count": 5,
   "metadata": {},
   "outputs": [],
   "source": [
    "def interpolacao_inversa(formula,x1,x2,x3,chute,max_iter=100,tol=1.0e-4):\n",
    "    '''Usa-se 3 pontos geralmente para aproximar um polinomio\n",
    "    quadratico. Com o polinomio, encontra-se a raiz.\n",
    "    '''\n",
    "    x = chute\n",
    "    y1 = formula(x1)\n",
    "    y2 = formula(x2)\n",
    "    y3 = formula(x3)\n",
    "    # Criando listas com as coordenadas\n",
    "    # Resolvi fazer por listas pra facilmente trabalhar com index,\n",
    "    # achar maior valor absoluto e substituir valores.\n",
    "    lx = [x1,x2,x3]\n",
    "    ly = [y1,y2,y3]\n",
    "    for k in range(max_iter):\n",
    "        tmp = x\n",
    "        x = (ly[1]*ly[2]*lx[0]/((ly[0]-ly[1])*(ly[0]-ly[2])) +\n",
    "            ly[0]*ly[2]*lx[1]/((ly[1] - ly[0])*(ly[1] - ly[2])) +\n",
    "            ly[0]*ly[1]*lx[2]/((ly[2] - ly[0])*(ly[2] - ly[1])))\n",
    "        \n",
    "        tolk= abs(x-tmp)\n",
    "        if tolk <= tol:\n",
    "            return x\n",
    "        else:\n",
    "            i = ly.index(max(ly,key = lambda z: abs(z))) #Pega\n",
    "            # o index de maior valor absoluto de ly\n",
    "            lx[i] = x\n",
    "            ly[i] = formula(x)\n",
    "            lx.sort()\n",
    "            ly.sort()\n",
    "            \n",
    "            \n",
    "    print('Convergencia nao alcancada')\n",
    "            "
   ]
  },
  {
   "cell_type": "markdown",
   "metadata": {},
   "source": [
    "### 4) Prepare um programa (linguagem de sua preferência) para obter a solução de um sistema de equações (n equações e n incógnitas) usando o método de Newton e o método de Broyden;"
   ]
  },
  {
   "cell_type": "markdown",
   "metadata": {},
   "source": [
    " "
   ]
  },
  {
   "cell_type": "code",
   "execution_count": 6,
   "metadata": {},
   "outputs": [],
   "source": [
    "import LU #Importando solucao por LU da lista passada"
   ]
  },
  {
   "cell_type": "markdown",
   "metadata": {},
   "source": [
    " "
   ]
  },
  {
   "cell_type": "code",
   "execution_count": 7,
   "metadata": {},
   "outputs": [],
   "source": [
    "def sistema_newton(formula,jacobiano,sol_partida,max_iter=100,tol=1.0e-4):\n",
    "    '''Procura a solucao do sistema atraves do metodo de newton,\n",
    "    usando derivada analitica. \n",
    "    Convergencia nao garantida!\n",
    "\n",
    "    '''\n",
    "    x = np.array(sol_partida,float)\n",
    "    for k in range(max_iter):\n",
    "        \n",
    "        J = np.array(jacobiano(*x),float)\n",
    "        \n",
    "        # Ao trabalhar com mais de uma equacao e incognita, formula(*x) vai retornar uma lista de arrays.\n",
    "        # Quando eu fizer um array de uma lista de arrays, seria como eu estivesse criando uma nova dimensao.\n",
    "        # Um problema com 2 equacoes e 2 incognitas, gerando uma matriz 2x2 sera transformado em algo do \n",
    "        # tipo 2x2x1. Isso da problema na hora de multiplicar as matrizes.\n",
    "        # Dessa forma, estou usando o np.squeeze para eliminar essa terceira 'dimensao'.\n",
    "        # Note que, quando usado para descobrir raizes de uma equacao, esse problema nao acontece, logo nao ha\n",
    "        # como eliminar a terceira 'dimensao'. Por isso, existe o bloco try - except abaixo.\n",
    "        try:\n",
    "            J = np.squeeze(J,axis=2)\n",
    "        except:\n",
    "            pass\n",
    "        \n",
    "        F = np.array(formula(*x),float)\n",
    "        try:\n",
    "            F = np.squeeze(F,axis=2)\n",
    "        except:\n",
    "            pass\n",
    "        \n",
    "        _,_,delta_x = LU.fact_lu(J,-F)\n",
    "        x = x + delta_x\n",
    "        \n",
    "        tolk = (math.sqrt(sum(h**2 for h in delta_x))/\n",
    "                math.sqrt(sum(m**2 for m in x)))\n",
    "        if tolk <= tol:\n",
    "            return x\n",
    "    print('Convergencia nao alcancada')\n",
    "    return"
   ]
  },
  {
   "cell_type": "code",
   "execution_count": 8,
   "metadata": {},
   "outputs": [],
   "source": [
    "def broyden(formula,sol_partida,max_iter=100,tol=1.0e-4):\n",
    "    '''Procura a solucao de um sistema sem a necessidade de explicitamente definir a derivada.'''\n",
    "    size = len(sol_partida)\n",
    "    \n",
    "    B = np.eye(size) #definindo B como matriz identidade\n",
    "    x = np.array(sol_partida,float)\n",
    "    for k in range(max_iter):\n",
    "        \n",
    "        F = np.array(formula(*x),float)\n",
    "        \n",
    "        try:                    \n",
    "            F = np.squeeze(F,axis=2)\n",
    "        except:\n",
    "            pass\n",
    "        \n",
    "        _,_,delta_x = LU.fact_lu(B,-F)\n",
    "        x = x + delta_x\n",
    "        \n",
    "        new_F = np.array(formula(*x),float)\n",
    "        try:\n",
    "            new_F = np.squeeze(new_F,axis=2)\n",
    "        except:\n",
    "            pass\n",
    "        \n",
    "        Y = new_F - F\n",
    "        tolk = (math.sqrt(sum(h**2 for h in delta_x))/\n",
    "                math.sqrt(sum(m**2 for m in x)))\n",
    "        if tolk <= tol:\n",
    "            return x\n",
    "        else:\n",
    "            z = Y - np.dot(B,delta_x)\n",
    "            dx_vezes_trans = np.dot(np.transpose(delta_x),delta_x)\n",
    "            B = B + np.divide(np.dot(z,np.transpose(delta_x)),dx_vezes_trans)\n",
    "        \n",
    "           \n",
    "\n",
    "    print('Convergencia nao alcancada')\n",
    "    return "
   ]
  },
  {
   "cell_type": "markdown",
   "metadata": {},
   "source": [
    "### 5) Prepare um programa (linguagem de sua preferência) para efetuar o ajuste de curvas não-lineares (mínimos quadrados)."
   ]
  },
  {
   "cell_type": "code",
   "execution_count": 9,
   "metadata": {},
   "outputs": [],
   "source": [
    "def ajuste(formula,derivada,chute_inicial,max_iter=100,tol=1.0e-4):\n",
    "    '''Recebe a matriz da funcao ja com os pontos x,y em seus\n",
    "    determinados lugares!\n",
    "    Pode nao convergir dependendo do ponto de partida e/ou das derivadas.\n",
    "    Ex de utilizacao para funcao b0+b1*x**b2: \n",
    "    x_pontos = [1,2,3]\n",
    "    y_pontos = [1,2,9]\n",
    "    funcao = lambda b0,b1,b2 : [[b0+b1*x**b2-y] for x,y in zip(x_pontos,\n",
    "    y_pontos)]\n",
    "    derivada = lambda b0,b1,b2 : [[d_f1/db0, d_f1/db1... d_f1/dbn]]\n",
    "    '''\n",
    "    \n",
    "    \n",
    "    \n",
    "    b = np.array(chute_inicial,float)\n",
    "    for k in range(max_iter):\n",
    "        F = np.array(formula(*b),float)\n",
    "        try:\n",
    "            F = np.squeeze(F,axis=2)\n",
    "        except:\n",
    "            pass\n",
    "\n",
    "        J = np.array(derivada(*b),float)\n",
    "        try:\n",
    "            J = np.squeeze(J,axis=2)\n",
    "        except:\n",
    "            pass\n",
    "\n",
    "        J_transposto = np.transpose(J)\n",
    "        \n",
    "        A = np.dot(J_transposto,J)\n",
    "\n",
    "        C =  np.dot(J_transposto,-F)\n",
    "\n",
    "        try:\n",
    "            _,_,delta_b = LU.fact_lu(A,C)\n",
    "        except:\n",
    "            return None\n",
    "\n",
    "        b = b + delta_b\n",
    "        tolk = (math.sqrt(sum(h**2 for h in delta_b))/\n",
    "                math.sqrt(sum(m**2 for m in b)))\n",
    "        if tolk <= tol:\n",
    "            return b\n",
    "    print('Convergencia nao alcancada')\n",
    "    return"
   ]
  },
  {
   "cell_type": "code",
   "execution_count": 10,
   "metadata": {},
   "outputs": [],
   "source": [
    "x_exemplo = [1,2,3]\n",
    "y_exemplo = [1.995,1.41,1.26]\n",
    "func_exemplo = lambda a,b :[[math.exp(x**a/b)-y] for x,y in zip(x_exemplo,y_exemplo)]\n",
    "derivada_exemplo = lambda a,b : [[x**a*math.log(x)/b*math.exp(x**a/b),\n",
    "                                 -(x**a)*x**a/(b**2)*math.exp(x**a/b)] for x in x_exemplo]\n",
    "b_exemplo = [[0],[1]]"
   ]
  },
  {
   "cell_type": "code",
   "execution_count": 11,
   "metadata": {
    "scrolled": true
   },
   "outputs": [
    {
     "data": {
      "text/plain": [
       "array([[-1.00201833],\n",
       "       [ 1.44810676]])"
      ]
     },
     "execution_count": 11,
     "metadata": {},
     "output_type": "execute_result"
    }
   ],
   "source": [
    "ajuste(func_exemplo,derivada_exemplo,b_exemplo)"
   ]
  },
  {
   "cell_type": "markdown",
   "metadata": {},
   "source": [
    "### APLICACOES"
   ]
  },
  {
   "cell_type": "markdown",
   "metadata": {},
   "source": [
    "### 1) Utilizando os programas desenvolvidos encontre as raízes da seguinte equação por todos os métodos apresentados em sala de aula."
   ]
  },
  {
   "cell_type": "markdown",
   "metadata": {},
   "source": [
    " "
   ]
  },
  {
   "cell_type": "markdown",
   "metadata": {},
   "source": [
    "$$f(x) = log(cosh(x\\sqrt{gk})) - 50$$"
   ]
  },
  {
   "cell_type": "code",
   "execution_count": 12,
   "metadata": {},
   "outputs": [],
   "source": [
    "from math import sqrt,cos,sin,cosh,sinh,log"
   ]
  },
  {
   "cell_type": "code",
   "execution_count": 13,
   "metadata": {},
   "outputs": [],
   "source": [
    "g = 9.806\n",
    "k = 0.00341\n",
    "funcao_ex1 = lambda x: log(cosh(x*sqrt(g*k))) - 50"
   ]
  },
  {
   "cell_type": "markdown",
   "metadata": {},
   "source": [
    "Plotando a funcao para ja atribuir uma solucao inicial aproximada:"
   ]
  },
  {
   "cell_type": "code",
   "execution_count": 14,
   "metadata": {
    "scrolled": true
   },
   "outputs": [
    {
     "data": {
      "text/plain": [
       "[<matplotlib.lines.Line2D at 0x7f6b6f473d50>]"
      ]
     },
     "execution_count": 14,
     "metadata": {},
     "output_type": "execute_result"
    },
    {
     "data": {
      "image/png": "[encoded data removed]",
      "text/plain": [
       "<Figure size 432x288 with 1 Axes>"
      ]
     },
     "metadata": {
      "needs_background": "light"
     },
     "output_type": "display_data"
    }
   ],
   "source": [
    "import matplotlib.pyplot as plt\n",
    "%matplotlib inline\n",
    "\n",
    "val_x = []\n",
    "val_y = []\n",
    "\n",
    "for i in range(-300,301):\n",
    "    val_x.append(i)\n",
    "    val_y.append(funcao_ex1(i))\n",
    "\n",
    "fig, ax = plt.subplots()\n",
    "ax.plot(val_x,val_y)\n"
   ]
  },
  {
   "cell_type": "markdown",
   "metadata": {},
   "source": [
    "Pelo grafico, utilizando x pertencente a [-300,300], percebe-se que ha 2 raizes."
   ]
  },
  {
   "cell_type": "markdown",
   "metadata": {},
   "source": [
    "#### Pelo metodo da bissecao:"
   ]
  },
  {
   "cell_type": "markdown",
   "metadata": {},
   "source": [
    "Como o metodo da bissecao funciona\n",
    "direito apenas para uma raiz entre um intervalo, optei por definir A = -300 e B = -200 para descobrir a primeira raiz, e A=300, B = 200 para descobrir a segunda"
   ]
  },
  {
   "cell_type": "code",
   "execution_count": 15,
   "metadata": {},
   "outputs": [
    {
     "data": {
      "text/plain": [
       "-277.2210121154785"
      ]
     },
     "execution_count": 15,
     "metadata": {},
     "output_type": "execute_result"
    }
   ],
   "source": [
    "bissecao(funcao_ex1,A=-300,B=-200)"
   ]
  },
  {
   "cell_type": "code",
   "execution_count": 16,
   "metadata": {},
   "outputs": [
    {
     "data": {
      "text/plain": [
       "277.2210121154785"
      ]
     },
     "execution_count": 16,
     "metadata": {},
     "output_type": "execute_result"
    }
   ],
   "source": [
    "bissecao(funcao_ex1,A=300,B=200)"
   ]
  },
  {
   "cell_type": "markdown",
   "metadata": {},
   "source": [
    "#### Pelo metodo de Newton:"
   ]
  },
  {
   "cell_type": "markdown",
   "metadata": {},
   "source": [
    "Achando a derivada:"
   ]
  },
  {
   "cell_type": "code",
   "execution_count": 17,
   "metadata": {},
   "outputs": [
    {
     "data": {
      "text/latex": [
       "$\\displaystyle \\frac{0.182861860430217 \\sinh{\\left(0.182861860430217 x \\right)}}{\\cosh{\\left(0.182861860430217 x \\right)}}$"
      ],
      "text/plain": [
       "0.182861860430217*sinh(0.182861860430217*x)/cosh(0.182861860430217*x)"
      ]
     },
     "execution_count": 17,
     "metadata": {},
     "output_type": "execute_result"
    }
   ],
   "source": [
    "x_sb = sp.Symbol('x')\n",
    "sp.diff(sp.log(sp.cosh(x_sb*sp.sqrt(g*k))) - 50)"
   ]
  },
  {
   "cell_type": "code",
   "execution_count": 18,
   "metadata": {},
   "outputs": [],
   "source": [
    "derivada_ex1 = lambda x: 0.182861860430217*sinh(0.182861860430217*x)/cosh(0.182861860430217*x)"
   ]
  },
  {
   "cell_type": "markdown",
   "metadata": {},
   "source": [
    "Achando a primeira raiz:"
   ]
  },
  {
   "cell_type": "code",
   "execution_count": 19,
   "metadata": {},
   "outputs": [
    {
     "data": {
      "text/plain": [
       "-277.22099655606087"
      ]
     },
     "execution_count": 19,
     "metadata": {},
     "output_type": "execute_result"
    }
   ],
   "source": [
    "newton_original(funcao_ex1,derivada_ex1,chute_inicial=-500)"
   ]
  },
  {
   "cell_type": "markdown",
   "metadata": {},
   "source": [
    "Segunda raiz:"
   ]
  },
  {
   "cell_type": "code",
   "execution_count": 20,
   "metadata": {},
   "outputs": [
    {
     "data": {
      "text/plain": [
       "277.2209965560609"
      ]
     },
     "execution_count": 20,
     "metadata": {},
     "output_type": "execute_result"
    }
   ],
   "source": [
    "newton_original(funcao_ex1,derivada_ex1,chute_inicial=1000)"
   ]
  },
  {
   "cell_type": "markdown",
   "metadata": {},
   "source": [
    "#### Pelo metodo secante:"
   ]
  },
  {
   "cell_type": "code",
   "execution_count": 21,
   "metadata": {
    "scrolled": true
   },
   "outputs": [
    {
     "data": {
      "text/plain": [
       "-277.2209967106314"
      ]
     },
     "execution_count": 21,
     "metadata": {},
     "output_type": "execute_result"
    }
   ],
   "source": [
    "secante(funcao_ex1,chute_inicial=-2456)"
   ]
  },
  {
   "cell_type": "code",
   "execution_count": 22,
   "metadata": {},
   "outputs": [
    {
     "data": {
      "text/plain": [
       "277.2209960131954"
      ]
     },
     "execution_count": 22,
     "metadata": {},
     "output_type": "execute_result"
    }
   ],
   "source": [
    "secante(funcao_ex1,chute_inicial=2540)"
   ]
  },
  {
   "cell_type": "markdown",
   "metadata": {},
   "source": [
    "#### Pelo metodo da interpolacao inversa:"
   ]
  },
  {
   "cell_type": "code",
   "execution_count": 23,
   "metadata": {},
   "outputs": [
    {
     "data": {
      "text/plain": [
       "-277.22099655606104"
      ]
     },
     "execution_count": 23,
     "metadata": {},
     "output_type": "execute_result"
    }
   ],
   "source": [
    "interpolacao_inversa(funcao_ex1,x1=-300,x2=-200,x3=-100,chute=5000)"
   ]
  },
  {
   "cell_type": "code",
   "execution_count": 24,
   "metadata": {},
   "outputs": [
    {
     "data": {
      "text/plain": [
       "277.22099655606087"
      ]
     },
     "execution_count": 24,
     "metadata": {},
     "output_type": "execute_result"
    }
   ],
   "source": [
    "interpolacao_inversa(funcao_ex1,x1=1000,x2=1,x3=500,chute=7000)"
   ]
  },
  {
   "cell_type": "markdown",
   "metadata": {},
   "source": [
    "#### Pelo metodo de resolucao de sistemas de newton:"
   ]
  },
  {
   "cell_type": "code",
   "execution_count": 25,
   "metadata": {},
   "outputs": [
    {
     "data": {
      "text/plain": [
       "array([[-277.22099656]])"
      ]
     },
     "execution_count": 25,
     "metadata": {},
     "output_type": "execute_result"
    }
   ],
   "source": [
    "sistema_newton(lambda x: [[log(cosh(x*sqrt(g*k))) - 50]],lambda x : [[0.182861860430217*sinh(0.182861860430217*x)\n",
    "                                                                      /cosh(0.182861860430217*x)]],[[-300]])"
   ]
  },
  {
   "cell_type": "code",
   "execution_count": 26,
   "metadata": {},
   "outputs": [
    {
     "data": {
      "text/plain": [
       "array([[277.22099656]])"
      ]
     },
     "execution_count": 26,
     "metadata": {},
     "output_type": "execute_result"
    }
   ],
   "source": [
    "sistema_newton(lambda x: [[log(cosh(x*sqrt(g*k))) - 50]],lambda x : [[0.182861860430217*sinh(0.182861860430217*x)/\n",
    "                                                                      cosh(0.182861860430217*x)]],[[400]])"
   ]
  },
  {
   "cell_type": "markdown",
   "metadata": {},
   "source": [
    "#### Por broyden:"
   ]
  },
  {
   "cell_type": "code",
   "execution_count": 27,
   "metadata": {},
   "outputs": [
    {
     "data": {
      "text/plain": [
       "array([[-277.22099656]])"
      ]
     },
     "execution_count": 27,
     "metadata": {},
     "output_type": "execute_result"
    }
   ],
   "source": [
    "broyden(lambda x: [[log(cosh(x*sqrt(g*k))) - 50]],[[-300]])"
   ]
  },
  {
   "cell_type": "code",
   "execution_count": 28,
   "metadata": {},
   "outputs": [
    {
     "data": {
      "text/plain": [
       "array([[277.22099656]])"
      ]
     },
     "execution_count": 28,
     "metadata": {},
     "output_type": "execute_result"
    }
   ],
   "source": [
    "broyden(lambda x: [[log(cosh(x*sqrt(g*k))) - 50]],[[650]])"
   ]
  },
  {
   "cell_type": "markdown",
   "metadata": {},
   "source": [
    "### 2) Repita o exercício anterior para a função:"
   ]
  },
  {
   "cell_type": "markdown",
   "metadata": {},
   "source": [
    "$$f(x) = 4cos(x) - e^{2x}$$"
   ]
  },
  {
   "cell_type": "code",
   "execution_count": 29,
   "metadata": {},
   "outputs": [],
   "source": [
    "funcao_ex2 = lambda x:4*cos(x) - math.exp(2*x)"
   ]
  },
  {
   "cell_type": "markdown",
   "metadata": {},
   "source": [
    "Plotando:"
   ]
  },
  {
   "cell_type": "code",
   "execution_count": 30,
   "metadata": {
    "scrolled": false
   },
   "outputs": [
    {
     "data": {
      "text/plain": [
       "[<matplotlib.lines.Line2D at 0x7f6b6e719150>]"
      ]
     },
     "execution_count": 30,
     "metadata": {},
     "output_type": "execute_result"
    },
    {
     "data": {
      "image/png": "[encoded data removed]",
      "text/plain": [
       "<Figure size 432x288 with 1 Axes>"
      ]
     },
     "metadata": {
      "needs_background": "light"
     },
     "output_type": "display_data"
    }
   ],
   "source": [
    "ex2_X = np.linspace(-2,1,100)\n",
    "Vetorizacao = np.vectorize(funcao_ex2)\n",
    "plt.plot(ex2_X,Vetorizacao(ex2_X))\n"
   ]
  },
  {
   "cell_type": "markdown",
   "metadata": {},
   "source": [
    "2 raizes tambem!"
   ]
  },
  {
   "cell_type": "markdown",
   "metadata": {},
   "source": [
    "#### Por bissecao:"
   ]
  },
  {
   "cell_type": "markdown",
   "metadata": {},
   "source": [
    "Assumindo A = -0.6 e B = 1.0 para a primeira raiz e A = 0 e B = - 2 para a segunda:"
   ]
  },
  {
   "cell_type": "code",
   "execution_count": 31,
   "metadata": {},
   "outputs": [
    {
     "data": {
      "text/plain": [
       "0.597906494140625"
      ]
     },
     "execution_count": 31,
     "metadata": {},
     "output_type": "execute_result"
    }
   ],
   "source": [
    "bissecao(funcao_ex2,A=-.06,B=1.0)"
   ]
  },
  {
   "cell_type": "code",
   "execution_count": 32,
   "metadata": {},
   "outputs": [
    {
     "data": {
      "text/plain": [
       "-1.55975341796875"
      ]
     },
     "execution_count": 32,
     "metadata": {},
     "output_type": "execute_result"
    }
   ],
   "source": [
    "bissecao(funcao_ex2,A=0,B=-2)"
   ]
  },
  {
   "cell_type": "markdown",
   "metadata": {},
   "source": [
    "#### Por Newton:"
   ]
  },
  {
   "cell_type": "markdown",
   "metadata": {},
   "source": [
    "Descobrindo a derivada:\n",
    "    "
   ]
  },
  {
   "cell_type": "code",
   "execution_count": 33,
   "metadata": {},
   "outputs": [
    {
     "data": {
      "text/latex": [
       "$\\displaystyle - 2 e^{2 x} - 4 \\sin{\\left(x \\right)}$"
      ],
      "text/plain": [
       "-2*exp(2*x) - 4*sin(x)"
      ]
     },
     "execution_count": 33,
     "metadata": {},
     "output_type": "execute_result"
    }
   ],
   "source": [
    "sp.diff(4*sp.cos(x_sb) - sp.exp(2*x_sb))"
   ]
  },
  {
   "cell_type": "code",
   "execution_count": 34,
   "metadata": {
    "scrolled": true
   },
   "outputs": [
    {
     "data": {
      "text/plain": [
       "-1.5597513183190628"
      ]
     },
     "execution_count": 34,
     "metadata": {},
     "output_type": "execute_result"
    }
   ],
   "source": [
    "newton_original(funcao_ex2,lambda x:-2*math.exp(2*x) - 4*sin(x),chute_inicial=-1)"
   ]
  },
  {
   "cell_type": "code",
   "execution_count": 35,
   "metadata": {
    "scrolled": true
   },
   "outputs": [
    {
     "data": {
      "text/plain": [
       "0.5978860670377387"
      ]
     },
     "execution_count": 35,
     "metadata": {},
     "output_type": "execute_result"
    }
   ],
   "source": [
    "newton_original(funcao_ex2,lambda x:-2*math.exp(2*x) - 4*sin(x),chute_inicial=1)"
   ]
  },
  {
   "cell_type": "markdown",
   "metadata": {},
   "source": [
    "#### Por Secante:"
   ]
  },
  {
   "cell_type": "code",
   "execution_count": 36,
   "metadata": {
    "scrolled": true
   },
   "outputs": [
    {
     "data": {
      "text/plain": [
       "-1.5597518197305278"
      ]
     },
     "execution_count": 36,
     "metadata": {},
     "output_type": "execute_result"
    }
   ],
   "source": [
    "secante(funcao_ex2,chute_inicial= -.5)"
   ]
  },
  {
   "cell_type": "code",
   "execution_count": 37,
   "metadata": {},
   "outputs": [
    {
     "data": {
      "text/plain": [
       "0.5978864395480724"
      ]
     },
     "execution_count": 37,
     "metadata": {},
     "output_type": "execute_result"
    }
   ],
   "source": [
    "secante(funcao_ex2,chute_inicial=1)"
   ]
  },
  {
   "cell_type": "markdown",
   "metadata": {},
   "source": [
    "#### Por interpolacao inversa:"
   ]
  },
  {
   "cell_type": "code",
   "execution_count": 38,
   "metadata": {
    "scrolled": true
   },
   "outputs": [
    {
     "data": {
      "text/plain": [
       "-1.5597513182154576"
      ]
     },
     "execution_count": 38,
     "metadata": {},
     "output_type": "execute_result"
    }
   ],
   "source": [
    "interpolacao_inversa(funcao_ex2,-4,-2,0,chute=504521e120)"
   ]
  },
  {
   "cell_type": "code",
   "execution_count": 39,
   "metadata": {},
   "outputs": [
    {
     "data": {
      "text/plain": [
       "0.6061505095068971"
      ]
     },
     "execution_count": 39,
     "metadata": {},
     "output_type": "execute_result"
    }
   ],
   "source": [
    "interpolacao_inversa(funcao_ex2,0.5,0.2,0.6,chute=-3112e17)"
   ]
  },
  {
   "cell_type": "markdown",
   "metadata": {},
   "source": [
    "#### Pelo metodo de resolucao de sistemas de newton:"
   ]
  },
  {
   "cell_type": "code",
   "execution_count": 40,
   "metadata": {},
   "outputs": [
    {
     "data": {
      "text/plain": [
       "array([[0.59788607]])"
      ]
     },
     "execution_count": 40,
     "metadata": {},
     "output_type": "execute_result"
    }
   ],
   "source": [
    "sistema_newton(formula=lambda x:[[4*cos(x) - math.exp(2*x)]],jacobiano=lambda x:[[-2*math.exp(2*x) - 4*sin(x)]],\n",
    "              sol_partida=[[1]])"
   ]
  },
  {
   "cell_type": "code",
   "execution_count": 41,
   "metadata": {},
   "outputs": [
    {
     "data": {
      "text/plain": [
       "array([[-1.55975132]])"
      ]
     },
     "execution_count": 41,
     "metadata": {},
     "output_type": "execute_result"
    }
   ],
   "source": [
    "sistema_newton(formula=lambda x:[[4*cos(x) - math.exp(2*x)]],jacobiano=lambda x:[[-2*math.exp(2*x) - 4*sin(x)]],\n",
    "              sol_partida=[[-2]])"
   ]
  },
  {
   "cell_type": "markdown",
   "metadata": {},
   "source": [
    "#### Por Broyden:"
   ]
  },
  {
   "cell_type": "code",
   "execution_count": 42,
   "metadata": {},
   "outputs": [
    {
     "data": {
      "text/plain": [
       "array([[0.59788607]])"
      ]
     },
     "execution_count": 42,
     "metadata": {},
     "output_type": "execute_result"
    }
   ],
   "source": [
    "broyden(formula=lambda x:[[4*cos(x) - math.exp(2*x)]],sol_partida=[[1]])"
   ]
  },
  {
   "cell_type": "code",
   "execution_count": 43,
   "metadata": {},
   "outputs": [
    {
     "data": {
      "text/plain": [
       "array([[-1.55975132]])"
      ]
     },
     "execution_count": 43,
     "metadata": {},
     "output_type": "execute_result"
    }
   ],
   "source": [
    "broyden(formula=lambda x:[[4*cos(x) - math.exp(2*x)]],sol_partida=[[-2]])"
   ]
  },
  {
   "cell_type": "markdown",
   "metadata": {},
   "source": [
    "#### NOTA:"
   ]
  },
  {
   "cell_type": "markdown",
   "metadata": {},
   "source": [
    "Essa funcao possui muitos pontos proximos de y=0. Dependendo do valor da tolerancia, os valores encontrados podem variar"
   ]
  },
  {
   "cell_type": "markdown",
   "metadata": {},
   "source": [
    "### 3) Encontre uma solução para o seguinte sistema de equações não-lineares pelos métodos de Newton e Broyden utilizando os programas desenvolvidos:"
   ]
  },
  {
   "cell_type": "markdown",
   "metadata": {},
   "source": [
    " "
   ]
  },
  {
   "cell_type": "markdown",
   "metadata": {},
   "source": [
    "$$16x^4 + 16y^4 + z^4 = 16$$\n",
    "$$x^2 + y^2 + z^2 = 3$$\n",
    "$$x^3 - y + z = 1$$"
   ]
  },
  {
   "cell_type": "code",
   "execution_count": 44,
   "metadata": {},
   "outputs": [],
   "source": [
    "func_ex3 = lambda x,y,z : [[16*x**4 + 16*y**4 + z**4 - 16],\n",
    "                          [x**2+y**2+z**2 -3],\n",
    "                          [x**3 - y + z - 1]]"
   ]
  },
  {
   "cell_type": "markdown",
   "metadata": {},
   "source": [
    "#### Por Newton:"
   ]
  },
  {
   "cell_type": "code",
   "execution_count": 45,
   "metadata": {},
   "outputs": [],
   "source": [
    "derivada_ex3 = lambda x,y,z : [[64*x**3,64*y**3,4*z**3],\n",
    "                          [2*x,2*y,2*z],\n",
    "                          [3*x**2,-1,1]]"
   ]
  },
  {
   "cell_type": "code",
   "execution_count": 46,
   "metadata": {
    "scrolled": true
   },
   "outputs": [
    {
     "data": {
      "text/plain": [
       "array([[0.79040955],\n",
       "       [0.80688816],\n",
       "       [1.31308196]])"
      ]
     },
     "execution_count": 46,
     "metadata": {},
     "output_type": "execute_result"
    }
   ],
   "source": [
    "sistema_newton(func_ex3,derivada_ex3,sol_partida=[[.79],[.8],[1.3]])"
   ]
  },
  {
   "cell_type": "markdown",
   "metadata": {},
   "source": [
    "#### Por Broyden:"
   ]
  },
  {
   "cell_type": "code",
   "execution_count": 47,
   "metadata": {
    "scrolled": false
   },
   "outputs": [
    {
     "data": {
      "text/plain": [
       "array([[0.79104173],\n",
       "       [0.80629739],\n",
       "       [1.31306449]])"
      ]
     },
     "execution_count": 47,
     "metadata": {},
     "output_type": "execute_result"
    }
   ],
   "source": [
    "broyden(func_ex3,[[.79],[.8],[1.3]])"
   ]
  },
  {
   "cell_type": "markdown",
   "metadata": {},
   "source": [
    "### 4) Resolva, utilizando os programas desenvolvidos, o seguinte sistema de equações não-lineares (usando os métodos de Newton e de Broyden):"
   ]
  },
  {
   "cell_type": "markdown",
   "metadata": {},
   "source": [
    "$$2b^2 + a^2 + 6c^2 = 1.0$$\n",
    "<br>\n",
    "$$8b^3 + 6ba^2+36bac + 108bc^2 = \\theta_1$$<br>\n",
    "$$60b^4 + 60b^2a^2 + 576b^2ac + 2232b^2c^2 + 252c^2a^2 + 1296c^3a + 3348c^4 + 24a^3c + 3a = \\theta_2$$ <br>\n",
    "&emsp;&emsp;&emsp;&emsp;&emsp;&emsp;&emsp;&emsp;&emsp;&emsp;&emsp;onde $a = c_2 , b = c_3$ e $c = c_4$ "
   ]
  },
  {
   "cell_type": "markdown",
   "metadata": {},
   "source": [
    "#### Primeiro caso :\n",
    "$\\theta_1 = 0.00$ e  $\\theta_2 = 3.0$"
   ]
  },
  {
   "cell_type": "code",
   "execution_count": 48,
   "metadata": {},
   "outputs": [],
   "source": [
    "func_ex4 = lambda a,b,c: [[2*b**2 + a**2 + 6*c**2 - 1.0],\n",
    "                         [8*b**3 + 6*b*a**2 + 36*b*a*c + 108*b*c**2 - 0],\n",
    "        [60*b**4+60*b**2*a**2+576*b**2*a*c+2232*b**2*c**2+\n",
    "         252*c**2*a**2+1296*c**3*a+3348*c**4+24*a**3*c+3*a - 3.0]]"
   ]
  },
  {
   "cell_type": "code",
   "execution_count": 49,
   "metadata": {},
   "outputs": [],
   "source": [
    "derivada_ex4 = lambda a,b,c : [[2*a,4*b,12*c],\n",
    "                          [12*b*a + 36*b*c,24*b**2+6*a**2+36*a*c+\n",
    "                           108*c**2,36*b*a+216*b*c],\n",
    "                          [120*b**2*a+576*b**2*c+504*c**2*a+\n",
    "                           1296*c**3+72*a**2*c+3,\n",
    "                          240*b**3+120*b*a**2+2*576*b*a*c+4464*b*c**2,\n",
    "                          576*b**2*a+4464*b**2*c+504*c*a**2+\n",
    "                           3*1296*c**2*a+4*3348*c**3+24*a**3]]"
   ]
  },
  {
   "cell_type": "markdown",
   "metadata": {},
   "source": [
    "##### Por Newton:"
   ]
  },
  {
   "cell_type": "code",
   "execution_count": 50,
   "metadata": {
    "scrolled": false
   },
   "outputs": [
    {
     "data": {
      "text/plain": [
       "array([[ 1.00000000e+00],\n",
       "       [-6.74389829e-14],\n",
       "       [ 2.98642899e-12]])"
      ]
     },
     "execution_count": 50,
     "metadata": {},
     "output_type": "execute_result"
    }
   ],
   "source": [
    "sistema_newton(func_ex4,derivada_ex4,sol_partida=[[.4],[.2],[.1]])"
   ]
  },
  {
   "cell_type": "markdown",
   "metadata": {},
   "source": [
    " &emsp;Para esse caso, $$a = 1;$$$$b,c \\approx 0$$"
   ]
  },
  {
   "cell_type": "markdown",
   "metadata": {},
   "source": [
    "##### Por Broyden:"
   ]
  },
  {
   "cell_type": "code",
   "execution_count": 51,
   "metadata": {
    "scrolled": true
   },
   "outputs": [
    {
     "data": {
      "text/plain": [
       "array([[ 1.00000263e+00],\n",
       "       [ 0.00000000e+00],\n",
       "       [-8.41455771e-07]])"
      ]
     },
     "execution_count": 51,
     "metadata": {},
     "output_type": "execute_result"
    }
   ],
   "source": [
    "broyden(func_ex4,sol_partida=[[.7],[0],[0.1]])"
   ]
  },
  {
   "cell_type": "markdown",
   "metadata": {},
   "source": [
    "#### Segundo caso :\n",
    "$\\theta_1 = 0.75$ e  $\\theta_2 = 6.5$"
   ]
  },
  {
   "cell_type": "code",
   "execution_count": 52,
   "metadata": {},
   "outputs": [],
   "source": [
    "func_ex4 = lambda a,b,c: [[2*b**2 + a**2 + 6*c**2 - 1.0],\n",
    "                         [8*b**3 + 6*b*a**2 + 36*b*a*c + 108*b*c**2 - 0.75],\n",
    "        [60*b**4+60*b**2*a**2+576*b**2*a*c+2232*b**2*c**2+\n",
    "         252*c**2*a**2+1296*c**3*a+3348*c**4+24*a**3*c+3*a - 6.5]]"
   ]
  },
  {
   "cell_type": "markdown",
   "metadata": {},
   "source": [
    "##### Por Newton:"
   ]
  },
  {
   "cell_type": "code",
   "execution_count": 53,
   "metadata": {
    "scrolled": true
   },
   "outputs": [
    {
     "data": {
      "text/plain": [
       "array([[0.98005394],\n",
       "       [0.08845225],\n",
       "       [0.0630432 ]])"
      ]
     },
     "execution_count": 53,
     "metadata": {},
     "output_type": "execute_result"
    }
   ],
   "source": [
    "sistema_newton(func_ex4,derivada_ex4,sol_partida=[[.2],[.2],[.1]])"
   ]
  },
  {
   "cell_type": "markdown",
   "metadata": {},
   "source": [
    "##### Por Broyden:"
   ]
  },
  {
   "cell_type": "code",
   "execution_count": 54,
   "metadata": {
    "scrolled": true
   },
   "outputs": [
    {
     "data": {
      "text/plain": [
       "array([[0.98005145],\n",
       "       [0.08845278],\n",
       "       [0.06304385]])"
      ]
     },
     "execution_count": 54,
     "metadata": {},
     "output_type": "execute_result"
    }
   ],
   "source": [
    "broyden(func_ex4,sol_partida=[[.2],[0.2],[0.1]])"
   ]
  },
  {
   "cell_type": "markdown",
   "metadata": {},
   "source": [
    "Consegue-se achar outras soluçoes para o problema, como, por exemplo:"
   ]
  },
  {
   "cell_type": "markdown",
   "metadata": {},
   "source": [
    "Newton:"
   ]
  },
  {
   "cell_type": "code",
   "execution_count": 55,
   "metadata": {},
   "outputs": [
    {
     "data": {
      "text/plain": [
       "array([[-0.95066714],\n",
       "       [ 0.0672418 ],\n",
       "       [-0.12054672]])"
      ]
     },
     "execution_count": 55,
     "metadata": {},
     "output_type": "execute_result"
    }
   ],
   "source": [
    "sistema_newton(func_ex4,derivada_ex4,sol_partida=[[0],[.2],[.1]])"
   ]
  },
  {
   "cell_type": "markdown",
   "metadata": {},
   "source": [
    "Broyden:"
   ]
  },
  {
   "cell_type": "code",
   "execution_count": 56,
   "metadata": {
    "scrolled": false
   },
   "outputs": [
    {
     "data": {
      "text/plain": [
       "array([[-0.67177739],\n",
       "       [-0.40550503],\n",
       "       [ 0.19140901]])"
      ]
     },
     "execution_count": 56,
     "metadata": {},
     "output_type": "execute_result"
    }
   ],
   "source": [
    "broyden(func_ex4,sol_partida=[[1],[0.2],[0.1]])"
   ]
  },
  {
   "cell_type": "markdown",
   "metadata": {},
   "source": [
    "#### Terceiro caso :\n",
    "$\\theta_1 = 0.0$ e  $\\theta_2 = 11.667$"
   ]
  },
  {
   "cell_type": "code",
   "execution_count": 57,
   "metadata": {},
   "outputs": [],
   "source": [
    "func_ex4 = lambda a,b,c: [[2*b**2 + a**2 + 6*c**2 - 1.0],\n",
    "                         [8*b**3 + 6*b*a**2 + 36*b*a*c + 108*b*c**2 - 0.0],\n",
    "        [60*b**4+60*b**2*a**2+576*b**2*a*c+2232*b**2*c**2\n",
    "         +252*c**2*a**2+1296*c**3*a+3348*c**4+24*a**3*c+3*a - 11.667]]"
   ]
  },
  {
   "cell_type": "markdown",
   "metadata": {},
   "source": [
    "##### Por Newton:"
   ]
  },
  {
   "cell_type": "code",
   "execution_count": 58,
   "metadata": {},
   "outputs": [
    {
     "data": {
      "text/plain": [
       "array([[9.55089118e-01],\n",
       "       [6.55675983e-14],\n",
       "       [1.20971605e-01]])"
      ]
     },
     "execution_count": 58,
     "metadata": {},
     "output_type": "execute_result"
    }
   ],
   "source": [
    "sistema_newton(func_ex4,derivada_ex4,sol_partida=[[0],[.2],[.1]])"
   ]
  },
  {
   "cell_type": "markdown",
   "metadata": {},
   "source": [
    "##### Por Broyden:"
   ]
  },
  {
   "cell_type": "code",
   "execution_count": 59,
   "metadata": {},
   "outputs": [
    {
     "data": {
      "text/plain": [
       "array([[9.98623125e-01],\n",
       "       [3.16674161e-05],\n",
       "       [2.09601231e-02]])"
      ]
     },
     "execution_count": 59,
     "metadata": {},
     "output_type": "execute_result"
    }
   ],
   "source": [
    "broyden(func_ex4,sol_partida=[[0],[0.2],[0.1]])"
   ]
  },
  {
   "cell_type": "markdown",
   "metadata": {},
   "source": [
    "Outras soluçoes:"
   ]
  },
  {
   "cell_type": "markdown",
   "metadata": {},
   "source": [
    "Newton:"
   ]
  },
  {
   "cell_type": "code",
   "execution_count": 60,
   "metadata": {},
   "outputs": [
    {
     "data": {
      "text/plain": [
       "array([[-6.54736114e-01],\n",
       "       [-2.14356766e-11],\n",
       "       [ 3.08577549e-01]])"
      ]
     },
     "execution_count": 60,
     "metadata": {},
     "output_type": "execute_result"
    }
   ],
   "source": [
    "sistema_newton(func_ex4,derivada_ex4,sol_partida=[[.7],[.5],[.2]])"
   ]
  },
  {
   "cell_type": "markdown",
   "metadata": {},
   "source": [
    "Broyden:"
   ]
  },
  {
   "cell_type": "code",
   "execution_count": 61,
   "metadata": {},
   "outputs": [
    {
     "data": {
      "text/plain": [
       "array([[0.19852849],\n",
       "       [0.        ],\n",
       "       [0.40012477]])"
      ]
     },
     "execution_count": 61,
     "metadata": {},
     "output_type": "execute_result"
    }
   ],
   "source": [
    "broyden(func_ex4,sol_partida=[[.4],[0],[0.4]])"
   ]
  },
  {
   "cell_type": "markdown",
   "metadata": {},
   "source": [
    "### 5) Utilizando o programa desenvolvido, ajuste uma função do tipo $b_0 + b_1x^{b_2}$ ao conjunto de dados:"
   ]
  },
  {
   "cell_type": "code",
   "execution_count": 62,
   "metadata": {},
   "outputs": [],
   "source": [
    "x_pontos = [1,2,3]\n",
    "y_pontos = [1,2,9]"
   ]
  },
  {
   "cell_type": "markdown",
   "metadata": {},
   "source": [
    "Plotando e tentando achar um B de partida que se aproxima aos dados:"
   ]
  },
  {
   "cell_type": "code",
   "execution_count": 63,
   "metadata": {
    "scrolled": false
   },
   "outputs": [
    {
     "data": {
      "text/plain": [
       "<matplotlib.legend.Legend at 0x7f6b6e632690>"
      ]
     },
     "execution_count": 63,
     "metadata": {},
     "output_type": "execute_result"
    },
    {
     "data": {
      "image/png": "[encoded data removed]",
      "text/plain": [
       "<Figure size 432x288 with 1 Axes>"
      ]
     },
     "metadata": {
      "needs_background": "light"
     },
     "output_type": "display_data"
    }
   ],
   "source": [
    "plt.plot(x_pontos,y_pontos,label='Funcao original')\n",
    "b = [.6,.14,3.7] #Tentativa manual de aproximar a funcao!\n",
    "\n",
    "y_func = [b[0] +b[1]*x**b[2] for x in x_pontos]\n",
    "\n",
    "plt.plot(x_pontos,y_func,'r-',label='Funcao com B chutado')\n",
    "plt.legend()"
   ]
  },
  {
   "cell_type": "code",
   "execution_count": 64,
   "metadata": {},
   "outputs": [],
   "source": [
    "x_pontos = [1,2,3]\n",
    "y_pontos = [1,2,9]"
   ]
  },
  {
   "cell_type": "markdown",
   "metadata": {},
   "source": [
    "Criando a funcao e as derivadas que serao usadas no metodo:"
   ]
  },
  {
   "cell_type": "code",
   "execution_count": 65,
   "metadata": {},
   "outputs": [],
   "source": [
    "func_minimos = lambda b0,b1,b2 : [[b0+b1*x**b2 - y] for x,y in zip(x_pontos,y_pontos)]\n",
    "derivadas = lambda b0,b1,b2 : [[1,x**b2,b1*(x**b2)*math.log(x)] for x in x_pontos]"
   ]
  },
  {
   "cell_type": "code",
   "execution_count": 66,
   "metadata": {},
   "outputs": [
    {
     "data": {
      "text/plain": [
       "array([[0.96916549],\n",
       "       [0.03083451],\n",
       "       [5.06312221]])"
      ]
     },
     "execution_count": 66,
     "metadata": {},
     "output_type": "execute_result"
    }
   ],
   "source": [
    "ajuste(func_minimos,derivadas,[[0.6],[0.14],[3.7]])"
   ]
  }
 ],
 "metadata": {
  "kernelspec": {
   "display_name": "Python 3",
   "language": "python",
   "name": "python3"
  },
  "language_info": {
   "codemirror_mode": {
    "name": "ipython",
    "version": 3
   },
   "file_extension": ".py",
   "mimetype": "text/x-python",
   "name": "python",
   "nbconvert_exporter": "python",
   "pygments_lexer": "ipython3",
   "version": "3.7.7"
  }
 },
 "nbformat": 4,
 "nbformat_minor": 4
}
