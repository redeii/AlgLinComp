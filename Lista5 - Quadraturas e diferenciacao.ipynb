{
 "cells": [
  {
   "cell_type": "code",
   "execution_count": 1,
   "metadata": {},
   "outputs": [],
   "source": [
    "import numpy as np\n",
    "import LU\n",
    "import math\n",
    "import sympy as sp"
   ]
  },
  {
   "cell_type": "code",
   "execution_count": 2,
   "metadata": {},
   "outputs": [],
   "source": [
    "def integra_polinomial(formula,intervalo_integracao,pontos_de_integracao):\n",
    "    '''N pontos de integracao: Integra corretamente um polinomio de ordem N-1'''\n",
    "    N = pontos_de_integracao\n",
    "    a,b = map(float,intervalo_integracao)\n",
    "    \n",
    "    #Inicializando o vetor de pontos X que serao utilizados\n",
    "    if N == 1: #Mid point\n",
    "        X_pontos = np.array([(a+b)/2],float)\n",
    "    elif N == 2: #Trapezio\n",
    "        X_pontos = np.array([a,b],float)\n",
    "    else:\n",
    "        delta = (b-a)/(N-1)\n",
    "        X_pontos = np.array([a+j*delta for j in range(N)])\n",
    "        \n",
    "        \n",
    "    #Inicializando matriz de Vandermonde e matriz_b para descobrir o peso atraves de um sistema linear\n",
    "    vander = np.eye(N)\n",
    "    matriz_b = np.array([[0] for z in range(N)],float)\n",
    "\n",
    "    for i in range(N):\n",
    "        matriz_b[i] = (b**(i+1)-a**(i+1))/(i+1) \n",
    "\n",
    "        for j in range(N):\n",
    "            vander[i,j] = X_pontos[j]**i\n",
    "    _,_,pesos = LU.fact_lu(vander,matriz_b)\n",
    "    \n",
    "    integral = sum(formula(x)*w for x,w in zip(X_pontos,pesos))\n",
    "    \n",
    "    return float(integral)\n",
    "    \n",
    "    \n",
    "    \n",
    "    "
   ]
  },
  {
   "cell_type": "code",
   "execution_count": 3,
   "metadata": {},
   "outputs": [],
   "source": [
    "formula_exemplo = lambda x: math.exp(-(x**2))"
   ]
  },
  {
   "cell_type": "code",
   "execution_count": 4,
   "metadata": {
    "scrolled": true
   },
   "outputs": [
    {
     "data": {
      "text/plain": [
       "0.7468337098497525"
      ]
     },
     "execution_count": 4,
     "metadata": {},
     "output_type": "execute_result"
    }
   ],
   "source": [
    "integra_polinomial(formula_exemplo,[0,1],5)"
   ]
  },
  {
   "cell_type": "code",
   "execution_count": 5,
   "metadata": {},
   "outputs": [],
   "source": [
    "pesos_gauss = {\n",
    "    2 : [np.array([1.0, 1.0]),\n",
    "      np.array([-0.5773502691896257, 0.5773502691896257])],\n",
    "    3 : [np.array([0.8888888888888888, 0.5555555555555556, 0.5555555555555556]),\n",
    "         np.array([0.0, -0.7745966692414834, 0.7745966692414834])],\n",
    "    4 : [np.array([0.6521451548625461, 0.6521451548625461,\n",
    "                      0.3478548451374538, 0.3478548451374538]),\n",
    "        np.array([-0.3399810435848563, 0.3399810435848563,\n",
    "                      -.8611363115940526, 0.8611363115940526])],\n",
    "    5: [np.array([0.5688888888888889, 0.4786286704993665,\n",
    "                      0.4786286704993665, 0.2369268850561891, 0.2369268850561891]),\n",
    "       np.array([0.0, -0.5384693101056831, 0.5384693101056831,\n",
    "                      -0.9061798459386640, 0.9061798459386640])],\n",
    "    6: [np.array([0.3607615730481386, 0.3607615730481386, 0.4679139345726910,\n",
    "                      0.4679139345726910, 0.1713244923791704, 0.1713244923791704]),\n",
    "       np.array([0.6612093864662645, -0.6612093864662645, -0.2386191860831969,\n",
    "                      0.2386191860831969, -0.9324695142031521, 0.9324695142031521])],\n",
    "    7: [np.array([0.4179591836734694, 0.3818300505051189, 0.3818300505051189,\n",
    "                      0.2797053914892766, 0.2797053914892766, 0.1294849661688697, 0.1294849661688697]),\n",
    "       np.array([0.0, 0.4058451513773972, -0.4058451513773972, -0.7415311855993945,\n",
    "                      0.7415311855993945, -0.9491079123427585, 0.9491079123427585])],\n",
    "    8: [np.array([0.3626837833783620, 0.3626837833783620, 0.3137066458778873, 0.3137066458778873,\n",
    "                      0.2223810344533745, 0.2223810344533745, 0.1012285362903763, 0.1012285362903763]),\n",
    "       np.array([-0.1834346424956498, 0.1834346424956498, -0.5255324099163290, 0.5255324099163290,\n",
    "                      -0.7966664774136267, 0.7966664774136267, -0.9602898564975363, 0.9602898564975363])],\n",
    "    9: [np.array([0.3302393550012598, 0.1806481606948574, 0.1806481606948574, 0.0812743883615744,\n",
    "                0.0812743883615744, 0.3123470770400029, 0.3123470770400029, 0.2606106964029354, 0.2606106964029354]),\n",
    "       np.array([0.0, -0.8360311073266358, 0.8360311073266358, -0.9681602395076261, 0.9681602395076261,\n",
    "                      -0.3242534234038089, 0.3242534234038089, -0.6133714327005904, 0.6133714327005904])],\n",
    "    10:[np.array([0.2955242247147529, 0.2955242247147529, 0.2692667193099963, 0.2692667193099963, 0.2190863625159820,\n",
    "                      0.2190863625159820, 0.1494513491505806, 0.1494513491505806, 0.0666713443086881, 0.0666713443086881]),\n",
    "        np.array([-0.1488743389816312, 0.1488743389816312, -0.4333953941292472, 0.4333953941292472, -0.6794095682990244,\n",
    "                      0.6794095682990244, -0.8650633666889845, 0.8650633666889845, -0.9739065285171717, 0.9739065285171717])]\n",
    "}\n",
    "\n",
    "\n",
    "def quadratura_gauss(formula,intervalo_integracao,pontos_de_integracao):\n",
    "    '''N pontos de integracao: Integra corretamente um polinomio de ordem 2*N-1'''\n",
    "    a,b = map(float,intervalo_integracao)\n",
    "    N = pontos_de_integracao\n",
    "    L = b-a\n",
    "    if N == 1:\n",
    "        #Mid-point!\n",
    "        integral = formula((b+a)/2.0)*L\n",
    "        return integral\n",
    "    peso,abscissa = pesos_gauss[N]\n",
    "    x_z = lambda z: (a+b+z*L)/2.0 # Isso define x em funcao de z para obter g(z)\n",
    "    integral = L/2.0*sum(formula(x_z(z))*w for z,w in zip(abscissa,peso))\n",
    "    return integral\n",
    "    "
   ]
  },
  {
   "cell_type": "code",
   "execution_count": 6,
   "metadata": {},
   "outputs": [
    {
     "data": {
      "text/plain": [
       "25.333333333333332"
      ]
     },
     "execution_count": 6,
     "metadata": {},
     "output_type": "execute_result"
    }
   ],
   "source": [
    "gauss_exemplo = lambda x: 2 + x + 2*x**2\n",
    "quadratura_gauss(gauss_exemplo,[1,3],2)"
   ]
  },
  {
   "cell_type": "code",
   "execution_count": 7,
   "metadata": {},
   "outputs": [],
   "source": [
    "func_ex1 = lambda x:1/math.sqrt(2*math.pi)*math.exp(-1/2*x**2)"
   ]
  },
  {
   "cell_type": "code",
   "execution_count": 8,
   "metadata": {},
   "outputs": [
    {
     "data": {
      "text/plain": [
       "0.3415290519962957"
      ]
     },
     "execution_count": 8,
     "metadata": {},
     "output_type": "execute_result"
    }
   ],
   "source": [
    "integra_polinomial(func_ex1,[0,1],3)"
   ]
  },
  {
   "cell_type": "code",
   "execution_count": 9,
   "metadata": {
    "scrolled": true
   },
   "outputs": [
    {
     "data": {
      "text/plain": [
       "0.3412211416986809"
      ]
     },
     "execution_count": 9,
     "metadata": {},
     "output_type": "execute_result"
    }
   ],
   "source": [
    "quadratura_gauss(func_ex1,[0,1],2)"
   ]
  },
  {
   "cell_type": "code",
   "execution_count": 10,
   "metadata": {},
   "outputs": [
    {
     "data": {
      "text/plain": [
       "0.49755058901774807"
      ]
     },
     "execution_count": 10,
     "metadata": {},
     "output_type": "execute_result"
    }
   ],
   "source": [
    "integra_polinomial(func_ex1,[0,5],6)"
   ]
  },
  {
   "cell_type": "code",
   "execution_count": 11,
   "metadata": {},
   "outputs": [
    {
     "data": {
      "text/plain": [
       "0.5004474475195483"
      ]
     },
     "execution_count": 11,
     "metadata": {},
     "output_type": "execute_result"
    }
   ],
   "source": [
    "quadratura_gauss(func_ex1,[0,5],5)"
   ]
  },
  {
   "cell_type": "markdown",
   "metadata": {},
   "source": [
    "### EX 2"
   ]
  },
  {
   "cell_type": "code",
   "execution_count": 12,
   "metadata": {},
   "outputs": [],
   "source": [
    "RAO = lambda w: 1/math.sqrt((1-(w/1.0)**2)**2+(2*0.05*w/1.0)**2)\n",
    "S = lambda w: RAO(w)**2*2.0\n"
   ]
  },
  {
   "cell_type": "markdown",
   "metadata": {},
   "source": [
    "Plotando a funcao para ver seu comportamento no intervalo [0,10]:"
   ]
  },
  {
   "cell_type": "code",
   "execution_count": 13,
   "metadata": {},
   "outputs": [
    {
     "data": {
      "text/plain": [
       "[<matplotlib.lines.Line2D at 0x7fd1fec54f90>]"
      ]
     },
     "execution_count": 13,
     "metadata": {},
     "output_type": "execute_result"
    },
    {
     "data": {
      "image/png": "[encoded data removed]",
      "text/plain": [
       "<Figure size 432x288 with 1 Axes>"
      ]
     },
     "metadata": {
      "needs_background": "light"
     },
     "output_type": "display_data"
    }
   ],
   "source": [
    "import matplotlib.pyplot as plt\n",
    "%matplotlib inline\n",
    "X = np.linspace(0,10,1000)\n",
    "Vetorizacao_S = np.vectorize(S)\n",
    "plt.plot(X,Vetorizacao_S(X))\n"
   ]
  },
  {
   "cell_type": "markdown",
   "metadata": {},
   "source": [
    "Fazendo a integral indefinida analiticamente obtem-se uma expressao com numeros complexos. Ao definir um limite [0,10], obtem-se o resultado 31.4153. \n",
    "\n",
    "(https://www.wolframalpha.com/input/?i=%E2%88%AB2*%281%2F%E2%88%9A%28%281-w**2%29**2%2B%282*0.05*w%2F1.0%29**2%29%29**2dw+from+0+to+10)"
   ]
  },
  {
   "cell_type": "markdown",
   "metadata": {},
   "source": [
    "#### m0:"
   ]
  },
  {
   "cell_type": "code",
   "execution_count": 14,
   "metadata": {
    "scrolled": true
   },
   "outputs": [
    {
     "name": "stdout",
     "output_type": "stream",
     "text": [
      "N = 1: 0.03470715835140998\n",
      "N = 2: 10.001020199959193\n",
      "N = 3: 3.3568115055540027\n",
      "N = 4: 2.577508854893364\n",
      "N = 5: 1.820086786708735\n",
      "N = 6: 1.9152889307432974\n",
      "N = 7: 2.608302882258963\n",
      "N = 8: 4.6664485068228965\n",
      "N = 9: 13.227748281908857\n",
      "N = 10: 52.85924970138235\n"
     ]
    }
   ],
   "source": [
    "for n in range(1,11):\n",
    "    print(f'N = {n}: {integra_polinomial(S,[0,10],n)}')"
   ]
  },
  {
   "cell_type": "code",
   "execution_count": 15,
   "metadata": {
    "scrolled": true
   },
   "outputs": [
    {
     "name": "stdout",
     "output_type": "stream",
     "text": [
      "N = 1: 0.03470715835140998\n",
      "N = 2: 0.8320929927115737\n",
      "N = 3: 64.84830061104871\n",
      "N = 4: 12.809405305456076\n",
      "N = 5: 4.147474355832165\n",
      "N = 6: 3.233216865682075\n",
      "N = 7: 7.555794033919728\n",
      "N = 8: 195.21080209592125\n",
      "N = 9: 17.05580203189161\n",
      "N = 10: 6.598559615255326\n"
     ]
    }
   ],
   "source": [
    "for n in range(1,11):\n",
    "    print(f'N = {n}: {quadratura_gauss(S,[0,10],n)}')\n"
   ]
  },
  {
   "cell_type": "markdown",
   "metadata": {},
   "source": [
    "Para ambos os algoritmos, o valor da integral muda significativamente dependendo do numero de pontos de integracao. Como essas tecnicas foram desenvolvidas com base para integrar funcoes polinomiais, para essa funcao, nao da para saber exatamente quantos pontos de integracao sao necessarios. Definitivamente nao sao 10. "
   ]
  },
  {
   "cell_type": "markdown",
   "metadata": {},
   "source": [
    "#### m2:"
   ]
  },
  {
   "cell_type": "code",
   "execution_count": 16,
   "metadata": {},
   "outputs": [],
   "source": [
    "m2 = lambda w:w**2*S(w)"
   ]
  },
  {
   "cell_type": "code",
   "execution_count": 17,
   "metadata": {},
   "outputs": [
    {
     "data": {
      "text/plain": [
       "[<matplotlib.lines.Line2D at 0x7fd1feb7ea90>]"
      ]
     },
     "execution_count": 17,
     "metadata": {},
     "output_type": "execute_result"
    },
    {
     "data": {
      "image/png": "[encoded data removed]",
      "text/plain": [
       "<Figure size 432x288 with 1 Axes>"
      ]
     },
     "metadata": {
      "needs_background": "light"
     },
     "output_type": "display_data"
    }
   ],
   "source": [
    "Vetorizacao_m2 = np.vectorize(m2)\n",
    "plt.plot(X,Vetorizacao_m2(X))"
   ]
  },
  {
   "cell_type": "code",
   "execution_count": 18,
   "metadata": {},
   "outputs": [
    {
     "name": "stdout",
     "output_type": "stream",
     "text": [
      "N = 1: 0.8676789587852496\n",
      "N = 2: 0.10201999591920015\n",
      "N = 3: 0.6124593044965665\n",
      "N = 4: 1.016305388474979\n",
      "N = 5: 1.8714222786921193\n",
      "N = 6: 2.7507528734524858\n",
      "N = 7: 4.932781274677633\n",
      "N = 8: 8.319639858133103\n",
      "N = 9: 20.120283032031445\n",
      "N = 10: 65.2099810484252\n"
     ]
    }
   ],
   "source": [
    "for n in range(1,11):\n",
    "    print(f'N = {n}: {integra_polinomial(m2,[0,10],n)}')"
   ]
  },
  {
   "cell_type": "code",
   "execution_count": 19,
   "metadata": {
    "scrolled": true
   },
   "outputs": [
    {
     "name": "stdout",
     "output_type": "stream",
     "text": [
      "N = 1: 0.8676789587852496\n",
      "N = 2: 3.8700950795315676\n",
      "N = 3: 82.80539866973832\n",
      "N = 4: 7.059435520204341\n",
      "N = 5: 2.5696978971748283\n",
      "N = 6: 3.75969560675518\n",
      "N = 7: 10.987739286122974\n",
      "N = 8: 201.78399833694257\n",
      "N = 9: 12.564682282723105\n",
      "N = 10: 5.35698500920671\n"
     ]
    }
   ],
   "source": [
    "for n in range(1,11):\n",
    "    print(f'N = {n}: {quadratura_gauss(m2,[0,10],n)}')"
   ]
  },
  {
   "cell_type": "markdown",
   "metadata": {},
   "source": [
    "Tambem nao e possivel"
   ]
  },
  {
   "cell_type": "markdown",
   "metadata": {},
   "source": [
    "### Questao 4"
   ]
  },
  {
   "cell_type": "code",
   "execution_count": 20,
   "metadata": {},
   "outputs": [],
   "source": [
    "from math import pi,exp,sqrt\n",
    "Sn_ex4 = lambda w: 4*pi**3*3.0**2/(w**5*5.0**4)*exp(-(16*pi**3)/(w**4*5.0**4))\n",
    "S_ex4 = lambda w: RAO(w)**2*Sn_ex4(w)"
   ]
  },
  {
   "cell_type": "markdown",
   "metadata": {},
   "source": [
    "https://www.wolframalpha.com/input/?i=%E2%88%AB4*pi**3*3.0**2%2F%28w**5*5.0**4%29*exp%28-%2816*pi**3%29%2F%28w**4*5.0**4%29%29*%281%2F%E2%88%9A%28%281-w**2%29**2%2B%282*0.05*w%2F1.0%29**2%29%29**2dw+from+0+to+10"
   ]
  },
  {
   "cell_type": "markdown",
   "metadata": {},
   "source": [
    "Plotando para observar o comportamento:"
   ]
  },
  {
   "cell_type": "code",
   "execution_count": 21,
   "metadata": {
    "scrolled": true
   },
   "outputs": [
    {
     "name": "stdout",
     "output_type": "stream",
     "text": [
      "Divisao por 0\n"
     ]
    },
    {
     "name": "stderr",
     "output_type": "stream",
     "text": [
      "/home/pedro/anaconda3/lib/python3.7/site-packages/ipykernel_launcher.py:2: RuntimeWarning: divide by zero encountered in double_scalars\n",
      "  \n",
      "/home/pedro/anaconda3/lib/python3.7/site-packages/ipykernel_launcher.py:2: RuntimeWarning: invalid value encountered in double_scalars\n",
      "  \n"
     ]
    }
   ],
   "source": [
    "Vetorizacao_S_ex4 = np.vectorize(S_ex4)\n",
    "try:\n",
    "    plt.plot(X,Vetorizacao_S_ex4(X))\n",
    "except ZeroDivisionError:\n",
    "    print('Divisao por 0')"
   ]
  },
  {
   "cell_type": "code",
   "execution_count": 22,
   "metadata": {},
   "outputs": [
    {
     "name": "stdout",
     "output_type": "stream",
     "text": [
      "N = 1: 9.905116320065648e-06\n",
      "N = 2: nan\n",
      "N = 3: nan\n",
      "N = 4: nan\n",
      "N = 5: nan\n",
      "N = 6: nan\n",
      "N = 7: nan\n",
      "N = 8: nan\n",
      "N = 9: nan\n",
      "N = 10: nan\n"
     ]
    },
    {
     "name": "stderr",
     "output_type": "stream",
     "text": [
      "/home/pedro/anaconda3/lib/python3.7/site-packages/ipykernel_launcher.py:2: RuntimeWarning: divide by zero encountered in double_scalars\n",
      "  \n",
      "/home/pedro/anaconda3/lib/python3.7/site-packages/ipykernel_launcher.py:2: RuntimeWarning: invalid value encountered in double_scalars\n",
      "  \n"
     ]
    }
   ],
   "source": [
    "for n in range(1,11):\n",
    "    print(f'N = {n}: {integra_polinomial(S_ex4,[0,10],n)}')"
   ]
  },
  {
   "cell_type": "code",
   "execution_count": 23,
   "metadata": {
    "scrolled": true
   },
   "outputs": [
    {
     "name": "stdout",
     "output_type": "stream",
     "text": [
      "N = 1: 9.905116320065648e-06\n",
      "N = 2: 0.016888162997259076\n",
      "N = 3: 19.467277817509128\n",
      "N = 4: 2.316734483073126\n",
      "N = 5: 0.003399575333912638\n",
      "N = 6: 0.05955365220462492\n",
      "N = 7: 1.1193237326149836\n",
      "N = 8: 75.85330094257573\n",
      "N = 9: 6.591566942728261\n",
      "N = 10: 0.7532902132971433\n"
     ]
    }
   ],
   "source": [
    "for n in range(1,11):\n",
    "    print(f'N = {n}: {quadratura_gauss(S_ex4,[0,10],n)}')"
   ]
  },
  {
   "cell_type": "markdown",
   "metadata": {},
   "source": [
    "#### m2:"
   ]
  },
  {
   "cell_type": "code",
   "execution_count": 24,
   "metadata": {},
   "outputs": [],
   "source": [
    "m2_ex4 = lambda w:w**2*S_ex4(w)"
   ]
  },
  {
   "cell_type": "code",
   "execution_count": 25,
   "metadata": {
    "scrolled": true
   },
   "outputs": [
    {
     "name": "stdout",
     "output_type": "stream",
     "text": [
      "N = 1: 0.0002476279080016412\n",
      "N = 2: nan\n",
      "N = 3: nan\n",
      "N = 4: nan\n",
      "N = 5: nan\n",
      "N = 6: nan\n",
      "N = 7: nan\n",
      "N = 8: nan\n",
      "N = 9: nan\n",
      "N = 10: nan\n"
     ]
    },
    {
     "name": "stderr",
     "output_type": "stream",
     "text": [
      "/home/pedro/anaconda3/lib/python3.7/site-packages/ipykernel_launcher.py:2: RuntimeWarning: divide by zero encountered in double_scalars\n",
      "  \n",
      "/home/pedro/anaconda3/lib/python3.7/site-packages/ipykernel_launcher.py:2: RuntimeWarning: invalid value encountered in double_scalars\n",
      "  \n"
     ]
    }
   ],
   "source": [
    "for n in range(1,11):\n",
    "    print(f'N = {n}: {integra_polinomial(m2_ex4,[0,10],n)}')"
   ]
  },
  {
   "cell_type": "code",
   "execution_count": 26,
   "metadata": {
    "scrolled": true
   },
   "outputs": [
    {
     "name": "stdout",
     "output_type": "stream",
     "text": [
      "N = 1: 0.0002476279080016412\n",
      "N = 2: 0.07542400330340233\n",
      "N = 3: 24.72679048966965\n",
      "N = 4: 1.1184281672518546\n",
      "N = 5: 0.018102641113009077\n",
      "N = 6: 0.1712329670394387\n",
      "N = 7: 1.8711970931384\n",
      "N = 8: 78.41093590426087\n",
      "N = 9: 4.464310594729089\n",
      "N = 10: 0.48426836843985044\n"
     ]
    }
   ],
   "source": [
    "for n in range(1,11):\n",
    "    print(f'N = {n}: {quadratura_gauss(m2_ex4,[0,10],n)}')"
   ]
  },
  {
   "cell_type": "markdown",
   "metadata": {},
   "source": [
    "### EX 5"
   ]
  },
  {
   "cell_type": "code",
   "execution_count": 27,
   "metadata": {},
   "outputs": [],
   "source": [
    "funcao_ex5 = lambda x:2+2*x-x**2+3*x**3\n"
   ]
  },
  {
   "cell_type": "markdown",
   "metadata": {},
   "source": [
    "Tendo N o numero de pontos de integracao, para integrar corretamente uma funcao atraves da Integracao Polinomial, torna-se necessario que N-1 >= ordem do polinomio. Nesse caso, o numero minimo de pontos de integracao e 4, uma vez que esta funcao e um polinomio de ordem 3\n"
   ]
  },
  {
   "cell_type": "code",
   "execution_count": 28,
   "metadata": {},
   "outputs": [
    {
     "data": {
      "text/plain": [
       "194.66666666666666"
      ]
     },
     "execution_count": 28,
     "metadata": {},
     "output_type": "execute_result"
    }
   ],
   "source": [
    "integra_polinomial(funcao_ex5,[0,4],4)"
   ]
  },
  {
   "cell_type": "markdown",
   "metadata": {},
   "source": [
    "Usando a tecnica da Quadratura de Gauss, N pontos de integracao integram corretamente um polinomio de ordem 2N-1. Logo, como a ordem do polinomio e 3, 2N-1 >=3. Minimo N = 2"
   ]
  },
  {
   "cell_type": "code",
   "execution_count": 29,
   "metadata": {},
   "outputs": [
    {
     "data": {
      "text/plain": [
       "194.66666666666666"
      ]
     },
     "execution_count": 29,
     "metadata": {},
     "output_type": "execute_result"
    }
   ],
   "source": [
    "quadratura_gauss(funcao_ex5,[0,4],2)"
   ]
  },
  {
   "cell_type": "markdown",
   "metadata": {},
   "source": [
    "### Ex 6"
   ]
  },
  {
   "cell_type": "code",
   "execution_count": 30,
   "metadata": {},
   "outputs": [],
   "source": [
    "func_ex6 = lambda x: 1/(1+x**2)"
   ]
  },
  {
   "cell_type": "markdown",
   "metadata": {},
   "source": [
    "Tendo os limites [0,3]"
   ]
  },
  {
   "cell_type": "markdown",
   "metadata": {},
   "source": [
    "Pela Regra do Mid-point:"
   ]
  },
  {
   "cell_type": "code",
   "execution_count": 31,
   "metadata": {},
   "outputs": [
    {
     "data": {
      "text/plain": [
       "0.9230769230769231"
      ]
     },
     "execution_count": 31,
     "metadata": {},
     "output_type": "execute_result"
    }
   ],
   "source": [
    "M = func_ex6((3.0+0)/2.0)*(3-0)\n",
    "M"
   ]
  },
  {
   "cell_type": "markdown",
   "metadata": {},
   "source": [
    "Pela Regra do Trapezio:"
   ]
  },
  {
   "cell_type": "code",
   "execution_count": 32,
   "metadata": {},
   "outputs": [
    {
     "data": {
      "text/plain": [
       "1.6500000000000001"
      ]
     },
     "execution_count": 32,
     "metadata": {},
     "output_type": "execute_result"
    }
   ],
   "source": [
    "T = (func_ex6(0)+func_ex6(3))/2.0*(3-0)\n",
    "T"
   ]
  },
  {
   "cell_type": "markdown",
   "metadata": {},
   "source": [
    "Obtendo o valor da Regra de Simpson por M e T:"
   ]
  },
  {
   "cell_type": "code",
   "execution_count": 33,
   "metadata": {},
   "outputs": [
    {
     "data": {
      "text/plain": [
       "1.1653846153846155"
      ]
     },
     "execution_count": 33,
     "metadata": {},
     "output_type": "execute_result"
    }
   ],
   "source": [
    "Simpson = 2/3*M + 1/3*T\n",
    "Simpson"
   ]
  },
  {
   "cell_type": "markdown",
   "metadata": {},
   "source": [
    "Obtendo a estimativa de erro e a consequente integral, considerando o erro:"
   ]
  },
  {
   "cell_type": "code",
   "execution_count": 34,
   "metadata": {},
   "outputs": [
    {
     "data": {
      "text/plain": [
       "0.24230769230769234"
      ]
     },
     "execution_count": 34,
     "metadata": {},
     "output_type": "execute_result"
    }
   ],
   "source": [
    "Erro = (T - M)/3.0\n",
    "Erro"
   ]
  },
  {
   "cell_type": "markdown",
   "metadata": {},
   "source": [
    "Reavaliando o valor da integral:"
   ]
  },
  {
   "cell_type": "code",
   "execution_count": 35,
   "metadata": {},
   "outputs": [
    {
     "data": {
      "text/plain": [
       "1.1653846153846155"
      ]
     },
     "execution_count": 35,
     "metadata": {},
     "output_type": "execute_result"
    }
   ],
   "source": [
    "A = M + Erro\n",
    "A"
   ]
  },
  {
   "cell_type": "markdown",
   "metadata": {},
   "source": [
    "Utilizando a Quadratura de Gauss para obter a integral e fazer a comparacao:"
   ]
  },
  {
   "cell_type": "code",
   "execution_count": 36,
   "metadata": {
    "scrolled": true
   },
   "outputs": [
    {
     "data": {
      "text/plain": [
       "1.2490605128576824"
      ]
     },
     "execution_count": 36,
     "metadata": {},
     "output_type": "execute_result"
    }
   ],
   "source": [
    "quadratura_gauss(func_ex6,[0,3],7)"
   ]
  },
  {
   "cell_type": "markdown",
   "metadata": {},
   "source": [
    "Analiticamente, a integral indefinida e dada por arctg(x)"
   ]
  },
  {
   "cell_type": "code",
   "execution_count": 37,
   "metadata": {},
   "outputs": [
    {
     "data": {
      "text/plain": [
       "1.2490457723982544"
      ]
     },
     "execution_count": 37,
     "metadata": {},
     "output_type": "execute_result"
    }
   ],
   "source": [
    "math.atan(3) - math.atan(0)"
   ]
  },
  {
   "cell_type": "markdown",
   "metadata": {},
   "source": [
    "Nota-se que o valor obtido pela Quadratura de Gauss e bem proximo da solucao analitica, enquanto que, utilizando Mid-Point e Trapezio, o valor so se aproxima da solucao analitica quando considerado o erro."
   ]
  },
  {
   "cell_type": "markdown",
   "metadata": {},
   "source": [
    "### EX 7"
   ]
  },
  {
   "cell_type": "code",
   "execution_count": 38,
   "metadata": {},
   "outputs": [],
   "source": [
    "pesos_hermite = {\n",
    "    1:[np.array([0],float),\n",
    "      np.array([1.7724538509055160272981674833411])],\n",
    "    \n",
    "    2:[np.array([-0.7071067811865475244008,0.7071067811865475244008]),\n",
    "      np.array([0.8862269254527580136491,0.886226925452758013649])],\n",
    "    \n",
    "    3:[np.array([-1.224744871391589049099,0.0,\n",
    "                1.224744871391589049099]),\n",
    "      np.array([0.295408975150919337883,1.181635900603677351532,\n",
    "                0.295408975150919337883])],\n",
    "    \n",
    "    4:[np.array([-1.650680123885784555883,-0.5246476232752903178841,\n",
    "                 0.5246476232752903178841,1.650680123885784555883]),\n",
    "      np.array([0.081312835447245177143,0.8049140900055128365061,\n",
    "                0.8049140900055128365061,0.08131283544724517714303])],\n",
    "    \n",
    "    5:[np.array([-2.020182870456085632929,-0.9585724646138185071128,\n",
    "            0.0,0.9585724646138185071128,2.020182870456085632929]),\n",
    "      np.array([0.01995324205904591320774,0.3936193231522411598285,\n",
    "                0.9453087204829418812257,0.393619323152241159828,\n",
    "                0.01995324205904591320774])],\n",
    "    \n",
    "    6:[np.array([-2.350604973674492222834,-1.335849074013696949715,\n",
    "            -0.4360774119276165086792,0.436077411927616508679,\n",
    "            1.335849074013696949715,2.350604973674492222834]),\n",
    "      np.array([0.004530009905508845640857,0.1570673203228566439163,\n",
    "            0.7246295952243925240919,0.724629595224392524092,\n",
    "            0.1570673203228566439163,0.004530009905508845640857])],\n",
    "    \n",
    "    7:[np.array([-2.651961356835233492447,-1.673551628767471445032,\n",
    "            -0.8162878828589646630387,0.0,0.8162878828589646630387,\n",
    "            1.673551628767471445032,2.651961356835233492447]),\n",
    "      np.array([9.71781245099519154149e-4,0.05451558281912703059218,\n",
    "        0.4256072526101278005203,0.810264617556807326765,\n",
    "        0.4256072526101278005203,0.0545155828191270305922,\n",
    "        9.71781245099519154149e-4])],\n",
    "    \n",
    "    8:[np.array([-2.930637420257244019224,-1.981656756695842925855,\n",
    "        -1.157193712446780194721,-0.3811869902073221168547,\n",
    "        0.3811869902073221168547,1.157193712446780194721,\n",
    "        1.981656756695842925855,2.930637420257244019224]),\n",
    "      np.array([1.99604072211367619206e-4,0.0170779830074134754562,\n",
    "        0.2078023258148918795433,0.6611470125582412910304,\n",
    "        0.6611470125582412910304,0.2078023258148918795433,\n",
    "        0.0170779830074134754562,1.996040722113676192061e-4])],\n",
    "    \n",
    "    9:[np.array([-3.19099320178152760723,-2.266580584531843111802,\n",
    "        -1.468553289216667931667,-0.7235510187528375733226,\n",
    "        0.0,0.7235510187528375733226,1.468553289216667931667,\n",
    "        2.266580584531843111802,3.19099320178152760723]),\n",
    "      np.array([3.960697726326438190459e-5,0.00494362427553694721722,\n",
    "        0.088474527394376573288,0.4326515590025557501998,\n",
    "        0.7202352156060509571243,0.4326515590025557502,\n",
    "        0.088474527394376573288,0.004943624275536947217225,\n",
    "        3.96069772632643819046e-5])],\n",
    "    \n",
    "    10:[np.array([-3.436159118837737603327,-2.532731674232789796409,\n",
    "        -1.756683649299881773451,-1.036610829789513654178,\n",
    "        -0.3429013272237046087892,0.3429013272237046087892,\n",
    "        1.036610829789513654178,1.756683649299881773451,\n",
    "        2.532731674232789796409,3.436159118837737603327]),\n",
    "      np.array([7.64043285523262062916e-6,0.001343645746781232692202,\n",
    "        0.0338743944554810631362,0.2401386110823146864165,\n",
    "        0.6108626337353257987836,0.6108626337353257987836,\n",
    "        0.2401386110823146864165,0.03387439445548106313616,\n",
    "        0.001343645746781232692202,7.64043285523262062916e-6])]\n",
    "}"
   ]
  },
  {
   "cell_type": "markdown",
   "metadata": {},
   "source": [
    "#### A1:"
   ]
  },
  {
   "cell_type": "markdown",
   "metadata": {},
   "source": [
    "Fazendo substituicao $u^2 = \\frac{1}2x^2$. Tem-se que $dx = \\frac{2}{\\sqrt{2}}du$ e os novos limites de integracao sao [$-\\infty$,$\\frac{1}{\\sqrt{2}}$]"
   ]
  },
  {
   "cell_type": "markdown",
   "metadata": {},
   "source": [
    "$$\\int_{-\\infty}^{\\sqrt{2}^{-1}}\\frac{1}{\\sqrt{2\\pi}}exp(-u^2)\\frac{2}{\\sqrt{2}}du$$"
   ]
  },
  {
   "cell_type": "markdown",
   "metadata": {},
   "source": [
    "Finalmente e possivel utilizar gauss-hermite!"
   ]
  },
  {
   "cell_type": "code",
   "execution_count": 39,
   "metadata": {},
   "outputs": [],
   "source": [
    "func_a1 = lambda u : 1/sqrt(2*pi)*2/sqrt(2)*exp(-u**2)"
   ]
  },
  {
   "cell_type": "code",
   "execution_count": 40,
   "metadata": {},
   "outputs": [],
   "source": [
    "func_hermite_a1 = lambda u: 1/sqrt(2*pi)*2/sqrt(2)"
   ]
  },
  {
   "cell_type": "code",
   "execution_count": 41,
   "metadata": {},
   "outputs": [],
   "source": [
    "def hermitao(formula,pontos_integracao):\n",
    "    N = pontos_integracao\n",
    "    X,w = pesos_hermite[N]\n",
    "    integral = sum(formula(x)*peso for x,peso in zip(X,w))\n",
    "    return integral"
   ]
  },
  {
   "cell_type": "code",
   "execution_count": 42,
   "metadata": {
    "scrolled": true
   },
   "outputs": [
    {
     "data": {
      "text/plain": [
       "0.9999999999999999"
      ]
     },
     "execution_count": 42,
     "metadata": {},
     "output_type": "execute_result"
    }
   ],
   "source": [
    "hermitao(func_hermite_a1,8)"
   ]
  },
  {
   "cell_type": "markdown",
   "metadata": {},
   "source": [
    "O valor 0.9999999999999999 refere-se a integral de $-\\infty$ ate $\\infty$. Tendo que a funcao e par, consegue-se obter a integral de $-\\infty$ ate 0 apenas dividindo 0.9999999999999999 por 2. A segunda parte da integral pode ser calculada atraves de uma quadratura de gauss normal, tendo o limite de 0 a $\\frac{1}{\\sqrt{2}}$"
   ]
  },
  {
   "cell_type": "code",
   "execution_count": 43,
   "metadata": {
    "scrolled": false
   },
   "outputs": [
    {
     "data": {
      "text/plain": [
       "0.8413447460632024"
      ]
     },
     "execution_count": 43,
     "metadata": {},
     "output_type": "execute_result"
    }
   ],
   "source": [
    "parte_1_hermitao = 1.0/2\n",
    "parte_2_hermitao = quadratura_gauss(func_a1,[0,1/sqrt(2)],5)\n",
    "integral = parte_1_hermitao + parte_2_hermitao\n",
    "integral"
   ]
  },
  {
   "cell_type": "markdown",
   "metadata": {},
   "source": [
    "#### A2:"
   ]
  },
  {
   "cell_type": "markdown",
   "metadata": {},
   "source": [
    "Usando a mesma substituicao $u^2 = \\frac{1}2x^2$ e $dx = \\frac{2}{\\sqrt{2}}du$, tem-se que A2 corresponde a:<br>$$\\int_{-\\infty}^{\\infty}2\\frac{u^2}{\\sqrt{2\\pi}}exp(-u^2)\\frac{2}{\\sqrt{2}}du$$"
   ]
  },
  {
   "cell_type": "code",
   "execution_count": 44,
   "metadata": {},
   "outputs": [],
   "source": [
    "func_a2 = lambda u:2*u**2/sqrt(2*pi)*exp(-u**2)*2/sqrt(2)\n",
    "func_hermite_a2 = lambda u:2*u**2/sqrt(2*pi)*2/sqrt(2)"
   ]
  },
  {
   "cell_type": "code",
   "execution_count": 45,
   "metadata": {
    "scrolled": true
   },
   "outputs": [
    {
     "data": {
      "text/plain": [
       "1.0"
      ]
     },
     "execution_count": 45,
     "metadata": {},
     "output_type": "execute_result"
    }
   ],
   "source": [
    "hermitao(func_hermite_a2,10)"
   ]
  },
  {
   "cell_type": "markdown",
   "metadata": {},
   "source": [
    "# PARTE 2 : DIFERENCIACAO"
   ]
  },
  {
   "cell_type": "markdown",
   "metadata": {},
   "source": [
    "### Tarefa 1)"
   ]
  },
  {
   "cell_type": "code",
   "execution_count": 52,
   "metadata": {},
   "outputs": [],
   "source": [
    "def derivada(formula,X,delta_x=1.0e-4,metodo='central'):\n",
    "    der = {\n",
    "        'central': ((formula(X+delta_x) - formula(X - delta_x))/\n",
    "                    (2.0*delta_x)),\n",
    "        'frente': (formula(X+delta_x)-formula(X))/delta_x,\n",
    "        \n",
    "        'tras': (formula(X)-formula(X-delta_x))/delta_x \n",
    "    }\n",
    "    return der[metodo]"
   ]
  },
  {
   "cell_type": "markdown",
   "metadata": {},
   "source": [
    "### Tarefa 2)"
   ]
  },
  {
   "cell_type": "markdown",
   "metadata": {},
   "source": [
    "Aprimorando o programa utilizando o procedimento de interpolação de Richard:"
   ]
  },
  {
   "cell_type": "code",
   "execution_count": 53,
   "metadata": {},
   "outputs": [],
   "source": [
    "def derivada_richard(formula,X,delta_x_1=1.0e-4,delta_x_2=0.5e-4,metodo='central',p=1):\n",
    "    d1 = derivada(formula,X,delta_x_1,metodo)\n",
    "    d2 = derivada(formula,X,delta_x_2,metodo)\n",
    "    q = delta_x_1/delta_x_2\n",
    "    a0 = d1 + (d1-d2)/(q**(-p)-1)\n",
    "    return a0\n",
    "    "
   ]
  },
  {
   "cell_type": "markdown",
   "metadata": {},
   "source": [
    "### Exercicio 1)"
   ]
  },
  {
   "cell_type": "markdown",
   "metadata": {},
   "source": [
    "Utilizando osprograma  desenvolvidos  nas  Tarefas  1  e  2;  calcule  as  derivadas  das  seguintes funções nos pontos indicados e compare com os valores analíticos"
   ]
  },
  {
   "cell_type": "markdown",
   "metadata": {},
   "source": [
    "$$f(x)=x^3+\\frac{1}{e^x}$$ no ponto $x=3$"
   ]
  },
  {
   "cell_type": "code",
   "execution_count": 62,
   "metadata": {},
   "outputs": [],
   "source": [
    "parte2_func1 = lambda x: x**3 + 1/exp(x)"
   ]
  },
  {
   "cell_type": "markdown",
   "metadata": {},
   "source": [
    "Metodo central:"
   ]
  },
  {
   "cell_type": "code",
   "execution_count": 63,
   "metadata": {},
   "outputs": [
    {
     "data": {
      "text/plain": [
       "26.95021294160327"
      ]
     },
     "execution_count": 63,
     "metadata": {},
     "output_type": "execute_result"
    }
   ],
   "source": [
    "derivada(parte2_func1,3,metodo='central')"
   ]
  },
  {
   "cell_type": "markdown",
   "metadata": {},
   "source": [
    "Metodo passo para frente:"
   ]
  },
  {
   "cell_type": "code",
   "execution_count": 64,
   "metadata": {},
   "outputs": [
    {
     "data": {
      "text/plain": [
       "26.951115430975392"
      ]
     },
     "execution_count": 64,
     "metadata": {},
     "output_type": "execute_result"
    }
   ],
   "source": [
    "derivada(parte2_func1,3,metodo='frente')"
   ]
  },
  {
   "cell_type": "markdown",
   "metadata": {},
   "source": [
    "Passo para tras:"
   ]
  },
  {
   "cell_type": "code",
   "execution_count": 65,
   "metadata": {
    "scrolled": true
   },
   "outputs": [
    {
     "data": {
      "text/plain": [
       "26.949310452231146"
      ]
     },
     "execution_count": 65,
     "metadata": {},
     "output_type": "execute_result"
    }
   ],
   "source": [
    "derivada(parte2_func1,3,metodo='tras')"
   ]
  },
  {
   "cell_type": "markdown",
   "metadata": {},
   "source": [
    "Usando Richard com p=1:"
   ]
  },
  {
   "cell_type": "code",
   "execution_count": 68,
   "metadata": {},
   "outputs": [
    {
     "data": {
      "text/plain": [
       "26.95021292657529"
      ]
     },
     "execution_count": 68,
     "metadata": {},
     "output_type": "execute_result"
    }
   ],
   "source": [
    "derivada_richard(parte2_func1,3,p=1,metodo='central')"
   ]
  },
  {
   "cell_type": "markdown",
   "metadata": {},
   "source": [
    "Analiticamente:$$\\frac{df(x)}{d(x)} = 3x^2 - \\frac{1}{e^x}$$"
   ]
  },
  {
   "cell_type": "markdown",
   "metadata": {},
   "source": [
    "no ponto $x=3$, o resultado analitico e dado por **26.950212931**. Conclusao: funcao bem comportada, os valores calculados por todos os metodos numericos das tarefas 1 e 2 se aproximam bastante da solucao analitica!"
   ]
  },
  {
   "cell_type": "markdown",
   "metadata": {},
   "source": [
    "#### 2)"
   ]
  },
  {
   "cell_type": "markdown",
   "metadata": {},
   "source": [
    "$$f(x)=x^{1/3} + ln(x)$$ no ponto $x=2$"
   ]
  },
  {
   "cell_type": "code",
   "execution_count": 71,
   "metadata": {},
   "outputs": [],
   "source": [
    "parte2_func2 = lambda x: x**(1/3)+math.log(x)"
   ]
  },
  {
   "cell_type": "markdown",
   "metadata": {},
   "source": [
    "Metodo central:"
   ]
  },
  {
   "cell_type": "code",
   "execution_count": 72,
   "metadata": {},
   "outputs": [
    {
     "data": {
      "text/plain": [
       "0.7099868421622801"
      ]
     },
     "execution_count": 72,
     "metadata": {},
     "output_type": "execute_result"
    }
   ],
   "source": [
    "derivada(parte2_func2,2,metodo='central')"
   ]
  },
  {
   "cell_type": "markdown",
   "metadata": {},
   "source": [
    "Metodo passo para frente:"
   ]
  },
  {
   "cell_type": "code",
   "execution_count": 73,
   "metadata": {},
   "outputs": [
    {
     "data": {
      "text/plain": [
       "0.7099708423830009"
      ]
     },
     "execution_count": 73,
     "metadata": {},
     "output_type": "execute_result"
    }
   ],
   "source": [
    "derivada(parte2_func2,X=2,metodo='frente')"
   ]
  },
  {
   "cell_type": "markdown",
   "metadata": {},
   "source": [
    "Metodo passo para tras:"
   ]
  },
  {
   "cell_type": "code",
   "execution_count": 74,
   "metadata": {},
   "outputs": [
    {
     "data": {
      "text/plain": [
       "0.7100028419415594"
      ]
     },
     "execution_count": 74,
     "metadata": {},
     "output_type": "execute_result"
    }
   ],
   "source": [
    "derivada(parte2_func2,X=2,metodo='tras')"
   ]
  },
  {
   "cell_type": "markdown",
   "metadata": {},
   "source": [
    "Usando Richard com p=1:"
   ]
  },
  {
   "cell_type": "code",
   "execution_count": 77,
   "metadata": {},
   "outputs": [
    {
     "data": {
      "text/plain": [
       "0.7099868413895649"
      ]
     },
     "execution_count": 77,
     "metadata": {},
     "output_type": "execute_result"
    }
   ],
   "source": [
    "derivada_richard(parte2_func2,2,p=1)"
   ]
  },
  {
   "cell_type": "markdown",
   "metadata": {},
   "source": [
    "Analiticamente:$$\\frac{df(x)}{d(x)}=\\frac{1}{3x^{2/3}} + \\frac{1}x$$ No ponto x=2, o resultado analitico e dado por **0.709986841**.Conclusao: funcao bem comportada, os valores calculados por todos os metodos numericos das tarefas 1 e 2 se aproximam bastante da solucao analitica!"
   ]
  },
  {
   "cell_type": "markdown",
   "metadata": {},
   "source": [
    "#### 3)"
   ]
  },
  {
   "cell_type": "markdown",
   "metadata": {},
   "source": [
    "$$f(x)=1-exp(-\\frac{x^2}{25})$$ no ponto x=6"
   ]
  },
  {
   "cell_type": "code",
   "execution_count": 76,
   "metadata": {},
   "outputs": [],
   "source": [
    "parte2_func3 = lambda x:1-exp(-x**2/25.0)"
   ]
  },
  {
   "cell_type": "markdown",
   "metadata": {},
   "source": [
    "Metodo central:"
   ]
  },
  {
   "cell_type": "code",
   "execution_count": 78,
   "metadata": {},
   "outputs": [
    {
     "data": {
      "text/plain": [
       "0.11372532416509262"
      ]
     },
     "execution_count": 78,
     "metadata": {},
     "output_type": "execute_result"
    }
   ],
   "source": [
    "derivada(parte2_func3,6,metodo='central')"
   ]
  },
  {
   "cell_type": "markdown",
   "metadata": {},
   "source": [
    "Metodo passo para frente:"
   ]
  },
  {
   "cell_type": "code",
   "execution_count": 79,
   "metadata": {},
   "outputs": [
    {
     "data": {
      "text/plain": [
       "0.11372354246863559"
      ]
     },
     "execution_count": 79,
     "metadata": {},
     "output_type": "execute_result"
    }
   ],
   "source": [
    "derivada(parte2_func3,6,metodo='frente')"
   ]
  },
  {
   "cell_type": "markdown",
   "metadata": {},
   "source": [
    "Metodo passo para tras:"
   ]
  },
  {
   "cell_type": "code",
   "execution_count": 80,
   "metadata": {},
   "outputs": [
    {
     "data": {
      "text/plain": [
       "0.11372710586154966"
      ]
     },
     "execution_count": 80,
     "metadata": {},
     "output_type": "execute_result"
    }
   ],
   "source": [
    "derivada(parte2_func3,6,metodo='tras')"
   ]
  },
  {
   "cell_type": "markdown",
   "metadata": {},
   "source": [
    "Usando Richard com p=1:"
   ]
  },
  {
   "cell_type": "code",
   "execution_count": 81,
   "metadata": {},
   "outputs": [
    {
     "data": {
      "text/plain": [
       "0.11372532416842329"
      ]
     },
     "execution_count": 81,
     "metadata": {},
     "output_type": "execute_result"
    }
   ],
   "source": [
    "derivada_richard(parte2_func3,6,p=1)"
   ]
  },
  {
   "cell_type": "markdown",
   "metadata": {},
   "source": [
    "Analiticamente:$$\\frac{df(x)}{d(x)}=\\frac{2}{25}xe^{-x^2/25}$$ no ponto x=6, o resultado analitico e dado por **0.11372532416**. Novamente, todos os metodos numericos aprendidos ate entao satisfazem o valor real"
   ]
  },
  {
   "cell_type": "code",
   "execution_count": null,
   "metadata": {},
   "outputs": [],
   "source": []
  }
 ],
 "metadata": {
  "kernelspec": {
   "display_name": "Python 3",
   "language": "python",
   "name": "python3"
  },
  "language_info": {
   "codemirror_mode": {
    "name": "ipython",
    "version": 3
   },
   "file_extension": ".py",
   "mimetype": "text/x-python",
   "name": "python",
   "nbconvert_exporter": "python",
   "pygments_lexer": "ipython3",
   "version": "3.7.7"
  }
 },
 "nbformat": 4,
 "nbformat_minor": 4
}
