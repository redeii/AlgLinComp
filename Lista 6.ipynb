{
 "cells": [
  {
   "cell_type": "code",
   "execution_count": 1,
   "metadata": {},
   "outputs": [],
   "source": [
    "import numpy as np\n",
    "from math import sin,cos,pi,sqrt,exp,ceil"
   ]
  },
  {
   "cell_type": "code",
   "execution_count": 17,
   "metadata": {},
   "outputs": [],
   "source": [
    "def euler(funcao,x0,intervalo_T,passo):\n",
    "    h = passo\n",
    "    T = intervalo_T[1] - intervalo_T[0]\n",
    "    N = int(-(-T//h))\n",
    "    print(N)\n",
    "    t_anterior = intervalo_T[0]\n",
    "    t = [t_anterior]\n",
    "    x = x0\n",
    "    x_list=[x]\n",
    "\n",
    "    for k in range(1,N+1):       \n",
    "        tk = k*h\n",
    "        K = funcao(t_anterior,x)\n",
    "        x = x + K*h\n",
    "        t.append(tk)\n",
    "        x_list.append(x)\n",
    "        t_anterior = tk\n",
    "    print(len(t))\n",
    "    print(len(x_list))\n",
    "    print(t)\n",
    "    print(x_list)\n",
    "    return t,x_list\n",
    "    \n",
    "    "
   ]
  },
  {
   "cell_type": "code",
   "execution_count": 3,
   "metadata": {},
   "outputs": [],
   "source": [
    "exemplo = lambda t,x: -2*t*x**2"
   ]
  },
  {
   "cell_type": "code",
   "execution_count": 18,
   "metadata": {
    "scrolled": false
   },
   "outputs": [
    {
     "name": "stdout",
     "output_type": "stream",
     "text": [
      "40\n",
      "41\n",
      "41\n",
      "[0, 0.25, 0.5, 0.75, 1.0, 1.25, 1.5, 1.75, 2.0, 2.25, 2.5, 2.75, 3.0, 3.25, 3.5, 3.75, 4.0, 4.25, 4.5, 4.75, 5.0, 5.25, 5.5, 5.75, 6.0, 6.25, 6.5, 6.75, 7.0, 7.25, 7.5, 7.75, 8.0, 8.25, 8.5, 8.75, 9.0, 9.25, 9.5, 9.75, 10.0]\n",
      "[1, 1.0, 0.875, 0.68359375, 0.5083560943603516, 0.37914313502369623, 0.28929968700144826, 0.22652895532709633, 0.18162800867570894, 0.14863927514020553, 0.12378393676172408, 0.10463085801143596, 0.0895778853951482, 0.07754158906734875, 0.06777095476032818, 0.0597333757193569, 0.05304323289155092, 0.0474160637803763, 0.04263846218347379, 0.03854787565438786, 0.03501877120040576, 0.03195298535943984, 0.02927287801681583, 0.026916399201500536, 0.024833483131823736, 0.022983377478448013, 0.021332641102457917, 0.019853625979137517, 0.01852331416138426, 0.017322418075059576, 0.016234678216178654, 0.015246310303242907, 0.01434556663902467, 0.01352238551024588, 0.012768109006959086, 0.01207525442460133, 0.011437327933393844, 0.010848671817241884, 0.010304338546325124, 0.009799986430158036, 0.009331792726755538]\n"
     ]
    }
   ],
   "source": [
    "xx,yy = euler(exemplo,1,[0,10],0.25)"
   ]
  },
  {
   "cell_type": "code",
   "execution_count": 5,
   "metadata": {
    "scrolled": false
   },
   "outputs": [
    {
     "data": {
      "text/plain": [
       "<matplotlib.legend.Legend at 0x7f6af329f410>"
      ]
     },
     "execution_count": 5,
     "metadata": {},
     "output_type": "execute_result"
    },
    {
     "data": {
      "image/png": "[encoded data removed]",
      "text/plain": [
       "<Figure size 432x288 with 1 Axes>"
      ]
     },
     "metadata": {
      "needs_background": "light"
     },
     "output_type": "display_data"
    }
   ],
   "source": [
    "import matplotlib.pyplot as plt\n",
    "%matplotlib inline\n",
    "X = np.linspace(0,10,40)\n",
    "fucao_real = lambda t: 1/(1+t**2)\n",
    "vetorizacao = np.vectorize(fucao_real)\n",
    "plt.plot(X,vetorizacao(X),label='Func Real')\n",
    "plt.plot(xx,yy,'r-',label='Func Numerica')\n",
    "plt.legend()"
   ]
  },
  {
   "cell_type": "code",
   "execution_count": null,
   "metadata": {},
   "outputs": [],
   "source": [
    "def anotha_euler(funcao,x0,intervalo_T,passo):\n",
    "    h = passo\n",
    "    T = intervalo_T[1] - intervalo_T[0]\n",
    "    N = int(-(-T//h))\n",
    "    Y_t = np.ones(N+1)*x0\n",
    "    t = np.ones(N+1)*intervalo_T[0]\n",
    "    for k in range(1,N+1):\n",
    "        t[k] = k*\n",
    "    \n",
    "    "
   ]
  }
 ],
 "metadata": {
  "kernelspec": {
   "display_name": "Python 3",
   "language": "python",
   "name": "python3"
  },
  "language_info": {
   "codemirror_mode": {
    "name": "ipython",
    "version": 3
   },
   "file_extension": ".py",
   "mimetype": "text/x-python",
   "name": "python",
   "nbconvert_exporter": "python",
   "pygments_lexer": "ipython3",
   "version": "3.7.7"
  }
 },
 "nbformat": 4,
 "nbformat_minor": 4
}
